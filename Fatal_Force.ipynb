{
  "cells": [
    {
      "cell_type": "markdown",
      "metadata": {
        "id": "view-in-github",
        "colab_type": "text"
      },
      "source": [
        "<a href=\"https://colab.research.google.com/github/sandeep-sb/Fatal-Force-Major-Project/blob/main/Fatal_Force.ipynb\" target=\"_parent\"><img src=\"https://colab.research.google.com/assets/colab-badge.svg\" alt=\"Open In Colab\"/></a>"
      ]
    },
    {
      "cell_type": "markdown",
      "source": [
        "## Upgrade Plotly"
      ],
      "metadata": {
        "id": "0JX69DOfXhXe"
      }
    },
    {
      "cell_type": "code",
      "source": [
        "%pip install --upgrade plotly"
      ],
      "metadata": {
        "colab": {
          "base_uri": "https://localhost:8080/"
        },
        "id": "g_5sq7FRXBwu",
        "outputId": "945f86e3-225f-4c04-c5d2-0bba8586b02c"
      },
      "execution_count": 1,
      "outputs": [
        {
          "output_type": "stream",
          "name": "stdout",
          "text": [
            "Requirement already satisfied: plotly in /usr/local/lib/python3.7/dist-packages (5.5.0)\n",
            "Collecting plotly\n",
            "  Downloading plotly-5.8.0-py2.py3-none-any.whl (15.2 MB)\n",
            "\u001b[K     |████████████████████████████████| 15.2 MB 5.1 MB/s \n",
            "\u001b[?25hRequirement already satisfied: tenacity>=6.2.0 in /usr/local/lib/python3.7/dist-packages (from plotly) (8.0.1)\n",
            "Installing collected packages: plotly\n",
            "  Attempting uninstall: plotly\n",
            "    Found existing installation: plotly 5.5.0\n",
            "    Uninstalling plotly-5.5.0:\n",
            "      Successfully uninstalled plotly-5.5.0\n",
            "Successfully installed plotly-5.8.0\n"
          ]
        }
      ]
    },
    {
      "cell_type": "markdown",
      "source": [
        "# Import Statements"
      ],
      "metadata": {
        "id": "3jC5DYG_Xa7W"
      }
    },
    {
      "cell_type": "code",
      "source": [
        "import pandas as pd\n",
        "import matplotlib.pyplot as plt\n",
        "import matplotlib.colors as colors\n",
        "import matplotlib.patches as mpatches\n",
        "import numpy as np"
      ],
      "metadata": {
        "id": "n2FFzN_5XNHg"
      },
      "execution_count": 52,
      "outputs": []
    },
    {
      "cell_type": "markdown",
      "source": [
        "# Notebook Presentation"
      ],
      "metadata": {
        "id": "r48I42yWX3H-"
      }
    },
    {
      "cell_type": "code",
      "source": [
        "pd.options.display.float_format = '{:,.2f}'.format"
      ],
      "metadata": {
        "id": "OxABGKGQXR_q"
      },
      "execution_count": 4,
      "outputs": []
    },
    {
      "cell_type": "markdown",
      "source": [
        "# Load the Data\n"
      ],
      "metadata": {
        "id": "6E6k4q7ZYQ0N"
      }
    },
    {
      "cell_type": "code",
      "source": [
        "df_hh_income = pd.read_csv('Median_Household_Income_2015.csv', encoding=\"windows-1252\")\n",
        "df_pct_poverty = pd.read_csv('Pct_People_Below_Poverty_Level.csv', encoding=\"windows-1252\")\n",
        "df_pct_completed_hs = pd.read_csv('Pct_Over_25_Completed_High_School.csv', encoding=\"windows-1252\")\n",
        "df_share_race_city = pd.read_csv('Share_of_Race_By_City.csv', encoding=\"windows-1252\")\n",
        "df_fatalities = pd.read_csv('Deaths_by_Police_US.csv', encoding=\"windows-1252\")"
      ],
      "metadata": {
        "id": "jwDn50lHX-Rl"
      },
      "execution_count": 5,
      "outputs": []
    },
    {
      "cell_type": "markdown",
      "source": [
        "# Preliminary Data Exploration\n",
        "\n",
        "\n",
        "\n",
        "*   What is the shape of the DataFrames?\n",
        "*   How many rows and columns do they have?\n",
        "*   What are the column names?\n",
        "*   Are there any NaN values or duplicates?\n",
        "\n",
        "\n"
      ],
      "metadata": {
        "id": "nP-tgbsQYUwp"
      }
    },
    {
      "cell_type": "code",
      "source": [
        "df_hh_income.info()"
      ],
      "metadata": {
        "colab": {
          "base_uri": "https://localhost:8080/"
        },
        "id": "nTMMkH80YGY2",
        "outputId": "ac4c03d9-7a36-47d6-9c3a-c6c24a8079a7"
      },
      "execution_count": 9,
      "outputs": [
        {
          "output_type": "stream",
          "name": "stdout",
          "text": [
            "<class 'pandas.core.frame.DataFrame'>\n",
            "RangeIndex: 29322 entries, 0 to 29321\n",
            "Data columns (total 3 columns):\n",
            " #   Column           Non-Null Count  Dtype \n",
            "---  ------           --------------  ----- \n",
            " 0   Geographic Area  29322 non-null  object\n",
            " 1   City             29322 non-null  object\n",
            " 2   Median Income    29271 non-null  object\n",
            "dtypes: object(3)\n",
            "memory usage: 687.4+ KB\n"
          ]
        }
      ]
    },
    {
      "cell_type": "code",
      "source": [
        "df_pct_poverty.info()"
      ],
      "metadata": {
        "colab": {
          "base_uri": "https://localhost:8080/"
        },
        "id": "o1v0EI10Ys_h",
        "outputId": "6d753a58-831f-4ae9-f61e-9bee1a6d4dd8"
      },
      "execution_count": 10,
      "outputs": [
        {
          "output_type": "stream",
          "name": "stdout",
          "text": [
            "<class 'pandas.core.frame.DataFrame'>\n",
            "RangeIndex: 29329 entries, 0 to 29328\n",
            "Data columns (total 3 columns):\n",
            " #   Column           Non-Null Count  Dtype \n",
            "---  ------           --------------  ----- \n",
            " 0   Geographic Area  29329 non-null  object\n",
            " 1   City             29329 non-null  object\n",
            " 2   poverty_rate     29329 non-null  object\n",
            "dtypes: object(3)\n",
            "memory usage: 687.5+ KB\n"
          ]
        }
      ]
    },
    {
      "cell_type": "code",
      "source": [
        "df_pct_completed_hs.info()"
      ],
      "metadata": {
        "colab": {
          "base_uri": "https://localhost:8080/"
        },
        "id": "0TBF6lkOZCuK",
        "outputId": "778b5a88-9a4c-4fe5-d4e3-551a6b14a0d4"
      },
      "execution_count": 11,
      "outputs": [
        {
          "output_type": "stream",
          "name": "stdout",
          "text": [
            "<class 'pandas.core.frame.DataFrame'>\n",
            "RangeIndex: 29329 entries, 0 to 29328\n",
            "Data columns (total 3 columns):\n",
            " #   Column                Non-Null Count  Dtype \n",
            "---  ------                --------------  ----- \n",
            " 0   Geographic Area       29329 non-null  object\n",
            " 1   City                  29329 non-null  object\n",
            " 2   percent_completed_hs  29329 non-null  object\n",
            "dtypes: object(3)\n",
            "memory usage: 687.5+ KB\n"
          ]
        }
      ]
    },
    {
      "cell_type": "code",
      "source": [
        "df_share_race_city"
      ],
      "metadata": {
        "colab": {
          "base_uri": "https://localhost:8080/",
          "height": 424
        },
        "id": "EJF3Mzp-ZGTi",
        "outputId": "e5410145-5772-41b6-d422-3592983e187f"
      },
      "execution_count": 12,
      "outputs": [
        {
          "output_type": "execute_result",
          "data": {
            "text/plain": [
              "      Geographic area                    City share_white share_black  \\\n",
              "0                  AL              Abanda CDP        67.2        30.2   \n",
              "1                  AL          Abbeville city        54.4        41.4   \n",
              "2                  AL         Adamsville city        52.3        44.9   \n",
              "3                  AL            Addison town        99.1         0.1   \n",
              "4                  AL              Akron town        13.2        86.5   \n",
              "...               ...                     ...         ...         ...   \n",
              "29263              WY  Woods Landing-Jelm CDP        95.9           0   \n",
              "29264              WY            Worland city        89.9         0.3   \n",
              "29265              WY             Wright town        94.5         0.1   \n",
              "29266              WY              Yoder town        97.4           0   \n",
              "29267              WY           Y-O Ranch CDP        92.8         1.5   \n",
              "\n",
              "      share_native_american share_asian share_hispanic  \n",
              "0                         0           0            1.6  \n",
              "1                       0.1           1            3.1  \n",
              "2                       0.5         0.3            2.3  \n",
              "3                         0         0.1            0.4  \n",
              "4                         0           0            0.3  \n",
              "...                     ...         ...            ...  \n",
              "29263                     0         2.1              0  \n",
              "29264                   1.3         0.6           16.6  \n",
              "29265                   1.4         0.2            6.2  \n",
              "29266                     0           0              4  \n",
              "29267                   2.6           0           11.8  \n",
              "\n",
              "[29268 rows x 7 columns]"
            ],
            "text/html": [
              "\n",
              "  <div id=\"df-21d18a43-f714-43c8-99d4-2d32c77e7578\">\n",
              "    <div class=\"colab-df-container\">\n",
              "      <div>\n",
              "<style scoped>\n",
              "    .dataframe tbody tr th:only-of-type {\n",
              "        vertical-align: middle;\n",
              "    }\n",
              "\n",
              "    .dataframe tbody tr th {\n",
              "        vertical-align: top;\n",
              "    }\n",
              "\n",
              "    .dataframe thead th {\n",
              "        text-align: right;\n",
              "    }\n",
              "</style>\n",
              "<table border=\"1\" class=\"dataframe\">\n",
              "  <thead>\n",
              "    <tr style=\"text-align: right;\">\n",
              "      <th></th>\n",
              "      <th>Geographic area</th>\n",
              "      <th>City</th>\n",
              "      <th>share_white</th>\n",
              "      <th>share_black</th>\n",
              "      <th>share_native_american</th>\n",
              "      <th>share_asian</th>\n",
              "      <th>share_hispanic</th>\n",
              "    </tr>\n",
              "  </thead>\n",
              "  <tbody>\n",
              "    <tr>\n",
              "      <th>0</th>\n",
              "      <td>AL</td>\n",
              "      <td>Abanda CDP</td>\n",
              "      <td>67.2</td>\n",
              "      <td>30.2</td>\n",
              "      <td>0</td>\n",
              "      <td>0</td>\n",
              "      <td>1.6</td>\n",
              "    </tr>\n",
              "    <tr>\n",
              "      <th>1</th>\n",
              "      <td>AL</td>\n",
              "      <td>Abbeville city</td>\n",
              "      <td>54.4</td>\n",
              "      <td>41.4</td>\n",
              "      <td>0.1</td>\n",
              "      <td>1</td>\n",
              "      <td>3.1</td>\n",
              "    </tr>\n",
              "    <tr>\n",
              "      <th>2</th>\n",
              "      <td>AL</td>\n",
              "      <td>Adamsville city</td>\n",
              "      <td>52.3</td>\n",
              "      <td>44.9</td>\n",
              "      <td>0.5</td>\n",
              "      <td>0.3</td>\n",
              "      <td>2.3</td>\n",
              "    </tr>\n",
              "    <tr>\n",
              "      <th>3</th>\n",
              "      <td>AL</td>\n",
              "      <td>Addison town</td>\n",
              "      <td>99.1</td>\n",
              "      <td>0.1</td>\n",
              "      <td>0</td>\n",
              "      <td>0.1</td>\n",
              "      <td>0.4</td>\n",
              "    </tr>\n",
              "    <tr>\n",
              "      <th>4</th>\n",
              "      <td>AL</td>\n",
              "      <td>Akron town</td>\n",
              "      <td>13.2</td>\n",
              "      <td>86.5</td>\n",
              "      <td>0</td>\n",
              "      <td>0</td>\n",
              "      <td>0.3</td>\n",
              "    </tr>\n",
              "    <tr>\n",
              "      <th>...</th>\n",
              "      <td>...</td>\n",
              "      <td>...</td>\n",
              "      <td>...</td>\n",
              "      <td>...</td>\n",
              "      <td>...</td>\n",
              "      <td>...</td>\n",
              "      <td>...</td>\n",
              "    </tr>\n",
              "    <tr>\n",
              "      <th>29263</th>\n",
              "      <td>WY</td>\n",
              "      <td>Woods Landing-Jelm CDP</td>\n",
              "      <td>95.9</td>\n",
              "      <td>0</td>\n",
              "      <td>0</td>\n",
              "      <td>2.1</td>\n",
              "      <td>0</td>\n",
              "    </tr>\n",
              "    <tr>\n",
              "      <th>29264</th>\n",
              "      <td>WY</td>\n",
              "      <td>Worland city</td>\n",
              "      <td>89.9</td>\n",
              "      <td>0.3</td>\n",
              "      <td>1.3</td>\n",
              "      <td>0.6</td>\n",
              "      <td>16.6</td>\n",
              "    </tr>\n",
              "    <tr>\n",
              "      <th>29265</th>\n",
              "      <td>WY</td>\n",
              "      <td>Wright town</td>\n",
              "      <td>94.5</td>\n",
              "      <td>0.1</td>\n",
              "      <td>1.4</td>\n",
              "      <td>0.2</td>\n",
              "      <td>6.2</td>\n",
              "    </tr>\n",
              "    <tr>\n",
              "      <th>29266</th>\n",
              "      <td>WY</td>\n",
              "      <td>Yoder town</td>\n",
              "      <td>97.4</td>\n",
              "      <td>0</td>\n",
              "      <td>0</td>\n",
              "      <td>0</td>\n",
              "      <td>4</td>\n",
              "    </tr>\n",
              "    <tr>\n",
              "      <th>29267</th>\n",
              "      <td>WY</td>\n",
              "      <td>Y-O Ranch CDP</td>\n",
              "      <td>92.8</td>\n",
              "      <td>1.5</td>\n",
              "      <td>2.6</td>\n",
              "      <td>0</td>\n",
              "      <td>11.8</td>\n",
              "    </tr>\n",
              "  </tbody>\n",
              "</table>\n",
              "<p>29268 rows × 7 columns</p>\n",
              "</div>\n",
              "      <button class=\"colab-df-convert\" onclick=\"convertToInteractive('df-21d18a43-f714-43c8-99d4-2d32c77e7578')\"\n",
              "              title=\"Convert this dataframe to an interactive table.\"\n",
              "              style=\"display:none;\">\n",
              "        \n",
              "  <svg xmlns=\"http://www.w3.org/2000/svg\" height=\"24px\"viewBox=\"0 0 24 24\"\n",
              "       width=\"24px\">\n",
              "    <path d=\"M0 0h24v24H0V0z\" fill=\"none\"/>\n",
              "    <path d=\"M18.56 5.44l.94 2.06.94-2.06 2.06-.94-2.06-.94-.94-2.06-.94 2.06-2.06.94zm-11 1L8.5 8.5l.94-2.06 2.06-.94-2.06-.94L8.5 2.5l-.94 2.06-2.06.94zm10 10l.94 2.06.94-2.06 2.06-.94-2.06-.94-.94-2.06-.94 2.06-2.06.94z\"/><path d=\"M17.41 7.96l-1.37-1.37c-.4-.4-.92-.59-1.43-.59-.52 0-1.04.2-1.43.59L10.3 9.45l-7.72 7.72c-.78.78-.78 2.05 0 2.83L4 21.41c.39.39.9.59 1.41.59.51 0 1.02-.2 1.41-.59l7.78-7.78 2.81-2.81c.8-.78.8-2.07 0-2.86zM5.41 20L4 18.59l7.72-7.72 1.47 1.35L5.41 20z\"/>\n",
              "  </svg>\n",
              "      </button>\n",
              "      \n",
              "  <style>\n",
              "    .colab-df-container {\n",
              "      display:flex;\n",
              "      flex-wrap:wrap;\n",
              "      gap: 12px;\n",
              "    }\n",
              "\n",
              "    .colab-df-convert {\n",
              "      background-color: #E8F0FE;\n",
              "      border: none;\n",
              "      border-radius: 50%;\n",
              "      cursor: pointer;\n",
              "      display: none;\n",
              "      fill: #1967D2;\n",
              "      height: 32px;\n",
              "      padding: 0 0 0 0;\n",
              "      width: 32px;\n",
              "    }\n",
              "\n",
              "    .colab-df-convert:hover {\n",
              "      background-color: #E2EBFA;\n",
              "      box-shadow: 0px 1px 2px rgba(60, 64, 67, 0.3), 0px 1px 3px 1px rgba(60, 64, 67, 0.15);\n",
              "      fill: #174EA6;\n",
              "    }\n",
              "\n",
              "    [theme=dark] .colab-df-convert {\n",
              "      background-color: #3B4455;\n",
              "      fill: #D2E3FC;\n",
              "    }\n",
              "\n",
              "    [theme=dark] .colab-df-convert:hover {\n",
              "      background-color: #434B5C;\n",
              "      box-shadow: 0px 1px 3px 1px rgba(0, 0, 0, 0.15);\n",
              "      filter: drop-shadow(0px 1px 2px rgba(0, 0, 0, 0.3));\n",
              "      fill: #FFFFFF;\n",
              "    }\n",
              "  </style>\n",
              "\n",
              "      <script>\n",
              "        const buttonEl =\n",
              "          document.querySelector('#df-21d18a43-f714-43c8-99d4-2d32c77e7578 button.colab-df-convert');\n",
              "        buttonEl.style.display =\n",
              "          google.colab.kernel.accessAllowed ? 'block' : 'none';\n",
              "\n",
              "        async function convertToInteractive(key) {\n",
              "          const element = document.querySelector('#df-21d18a43-f714-43c8-99d4-2d32c77e7578');\n",
              "          const dataTable =\n",
              "            await google.colab.kernel.invokeFunction('convertToInteractive',\n",
              "                                                     [key], {});\n",
              "          if (!dataTable) return;\n",
              "\n",
              "          const docLinkHtml = 'Like what you see? Visit the ' +\n",
              "            '<a target=\"_blank\" href=https://colab.research.google.com/notebooks/data_table.ipynb>data table notebook</a>'\n",
              "            + ' to learn more about interactive tables.';\n",
              "          element.innerHTML = '';\n",
              "          dataTable['output_type'] = 'display_data';\n",
              "          await google.colab.output.renderOutput(dataTable, element);\n",
              "          const docLink = document.createElement('div');\n",
              "          docLink.innerHTML = docLinkHtml;\n",
              "          element.appendChild(docLink);\n",
              "        }\n",
              "      </script>\n",
              "    </div>\n",
              "  </div>\n",
              "  "
            ]
          },
          "metadata": {},
          "execution_count": 12
        }
      ]
    },
    {
      "cell_type": "code",
      "source": [
        "df_fatalities"
      ],
      "metadata": {
        "colab": {
          "base_uri": "https://localhost:8080/",
          "height": 661
        },
        "id": "1GlDXoroZO71",
        "outputId": "6393b74e-bf12-4199-d18c-23b4c8e93477"
      },
      "execution_count": 13,
      "outputs": [
        {
          "output_type": "execute_result",
          "data": {
            "text/plain": [
              "        id                name        date   manner_of_death  \\\n",
              "0        3          Tim Elliot  2015-01-02              shot   \n",
              "1        4    Lewis Lee Lembke  2015-01-02              shot   \n",
              "2        5  John Paul Quintero  2015-01-03  shot and Tasered   \n",
              "3        8     Matthew Hoffman  2015-01-04              shot   \n",
              "4        9   Michael Rodriguez  2015-01-04              shot   \n",
              "...    ...                 ...         ...               ...   \n",
              "7354  8025                 NaN  2022-05-06              shot   \n",
              "7355  8013                 NaN  2022-05-07              shot   \n",
              "7356  8015                 NaN  2022-05-07              shot   \n",
              "7357  8023                 NaN  2022-05-07              shot   \n",
              "7358  8018                 NaN  2022-05-08              shot   \n",
              "\n",
              "                  armed   age gender race              city state  \\\n",
              "0                   gun 53.00      M    A           Shelton    WA   \n",
              "1                   gun 47.00      M    W             Aloha    OR   \n",
              "2               unarmed 23.00      M    H           Wichita    KS   \n",
              "3            toy weapon 32.00      M    W     San Francisco    CA   \n",
              "4              nail gun 39.00      M    H             Evans    CO   \n",
              "...                 ...   ...    ...  ...               ...   ...   \n",
              "7354       sharp object   NaN      M  NaN          Rosamond    CA   \n",
              "7355     unknown weapon 25.00      M  NaN  Hallandale Beach    FL   \n",
              "7356  incendiary weapon   NaN      M  NaN           Raleigh    NC   \n",
              "7357                gun   NaN      M  NaN         Wenatchee    WA   \n",
              "7358       undetermined   NaN      M  NaN        Springdale    AR   \n",
              "\n",
              "      signs_of_mental_illness threat_level         flee  body_camera  \\\n",
              "0                        True       attack  Not fleeing        False   \n",
              "1                       False       attack  Not fleeing        False   \n",
              "2                       False        other  Not fleeing        False   \n",
              "3                        True       attack  Not fleeing        False   \n",
              "4                       False       attack  Not fleeing        False   \n",
              "...                       ...          ...          ...          ...   \n",
              "7354                    False       attack          NaN        False   \n",
              "7355                    False       attack         Foot        False   \n",
              "7356                    False       attack  Not fleeing        False   \n",
              "7357                    False       attack          NaN        False   \n",
              "7358                    False       attack          NaN        False   \n",
              "\n",
              "      longitude  latitude  is_geocoding_exact  \n",
              "0       -123.12     47.25                True  \n",
              "1       -122.89     45.49                True  \n",
              "2        -97.28     37.70                True  \n",
              "3       -122.42     37.76                True  \n",
              "4       -104.69     40.38                True  \n",
              "...         ...       ...                 ...  \n",
              "7354    -118.19     34.86                True  \n",
              "7355     -80.13     25.99                True  \n",
              "7356     -78.60     35.75                True  \n",
              "7357    -120.31     47.42                True  \n",
              "7358     -94.14     36.16                True  \n",
              "\n",
              "[7359 rows x 17 columns]"
            ],
            "text/html": [
              "\n",
              "  <div id=\"df-70347bc6-4890-43ba-b41e-cfb3c0355e25\">\n",
              "    <div class=\"colab-df-container\">\n",
              "      <div>\n",
              "<style scoped>\n",
              "    .dataframe tbody tr th:only-of-type {\n",
              "        vertical-align: middle;\n",
              "    }\n",
              "\n",
              "    .dataframe tbody tr th {\n",
              "        vertical-align: top;\n",
              "    }\n",
              "\n",
              "    .dataframe thead th {\n",
              "        text-align: right;\n",
              "    }\n",
              "</style>\n",
              "<table border=\"1\" class=\"dataframe\">\n",
              "  <thead>\n",
              "    <tr style=\"text-align: right;\">\n",
              "      <th></th>\n",
              "      <th>id</th>\n",
              "      <th>name</th>\n",
              "      <th>date</th>\n",
              "      <th>manner_of_death</th>\n",
              "      <th>armed</th>\n",
              "      <th>age</th>\n",
              "      <th>gender</th>\n",
              "      <th>race</th>\n",
              "      <th>city</th>\n",
              "      <th>state</th>\n",
              "      <th>signs_of_mental_illness</th>\n",
              "      <th>threat_level</th>\n",
              "      <th>flee</th>\n",
              "      <th>body_camera</th>\n",
              "      <th>longitude</th>\n",
              "      <th>latitude</th>\n",
              "      <th>is_geocoding_exact</th>\n",
              "    </tr>\n",
              "  </thead>\n",
              "  <tbody>\n",
              "    <tr>\n",
              "      <th>0</th>\n",
              "      <td>3</td>\n",
              "      <td>Tim Elliot</td>\n",
              "      <td>2015-01-02</td>\n",
              "      <td>shot</td>\n",
              "      <td>gun</td>\n",
              "      <td>53.00</td>\n",
              "      <td>M</td>\n",
              "      <td>A</td>\n",
              "      <td>Shelton</td>\n",
              "      <td>WA</td>\n",
              "      <td>True</td>\n",
              "      <td>attack</td>\n",
              "      <td>Not fleeing</td>\n",
              "      <td>False</td>\n",
              "      <td>-123.12</td>\n",
              "      <td>47.25</td>\n",
              "      <td>True</td>\n",
              "    </tr>\n",
              "    <tr>\n",
              "      <th>1</th>\n",
              "      <td>4</td>\n",
              "      <td>Lewis Lee Lembke</td>\n",
              "      <td>2015-01-02</td>\n",
              "      <td>shot</td>\n",
              "      <td>gun</td>\n",
              "      <td>47.00</td>\n",
              "      <td>M</td>\n",
              "      <td>W</td>\n",
              "      <td>Aloha</td>\n",
              "      <td>OR</td>\n",
              "      <td>False</td>\n",
              "      <td>attack</td>\n",
              "      <td>Not fleeing</td>\n",
              "      <td>False</td>\n",
              "      <td>-122.89</td>\n",
              "      <td>45.49</td>\n",
              "      <td>True</td>\n",
              "    </tr>\n",
              "    <tr>\n",
              "      <th>2</th>\n",
              "      <td>5</td>\n",
              "      <td>John Paul Quintero</td>\n",
              "      <td>2015-01-03</td>\n",
              "      <td>shot and Tasered</td>\n",
              "      <td>unarmed</td>\n",
              "      <td>23.00</td>\n",
              "      <td>M</td>\n",
              "      <td>H</td>\n",
              "      <td>Wichita</td>\n",
              "      <td>KS</td>\n",
              "      <td>False</td>\n",
              "      <td>other</td>\n",
              "      <td>Not fleeing</td>\n",
              "      <td>False</td>\n",
              "      <td>-97.28</td>\n",
              "      <td>37.70</td>\n",
              "      <td>True</td>\n",
              "    </tr>\n",
              "    <tr>\n",
              "      <th>3</th>\n",
              "      <td>8</td>\n",
              "      <td>Matthew Hoffman</td>\n",
              "      <td>2015-01-04</td>\n",
              "      <td>shot</td>\n",
              "      <td>toy weapon</td>\n",
              "      <td>32.00</td>\n",
              "      <td>M</td>\n",
              "      <td>W</td>\n",
              "      <td>San Francisco</td>\n",
              "      <td>CA</td>\n",
              "      <td>True</td>\n",
              "      <td>attack</td>\n",
              "      <td>Not fleeing</td>\n",
              "      <td>False</td>\n",
              "      <td>-122.42</td>\n",
              "      <td>37.76</td>\n",
              "      <td>True</td>\n",
              "    </tr>\n",
              "    <tr>\n",
              "      <th>4</th>\n",
              "      <td>9</td>\n",
              "      <td>Michael Rodriguez</td>\n",
              "      <td>2015-01-04</td>\n",
              "      <td>shot</td>\n",
              "      <td>nail gun</td>\n",
              "      <td>39.00</td>\n",
              "      <td>M</td>\n",
              "      <td>H</td>\n",
              "      <td>Evans</td>\n",
              "      <td>CO</td>\n",
              "      <td>False</td>\n",
              "      <td>attack</td>\n",
              "      <td>Not fleeing</td>\n",
              "      <td>False</td>\n",
              "      <td>-104.69</td>\n",
              "      <td>40.38</td>\n",
              "      <td>True</td>\n",
              "    </tr>\n",
              "    <tr>\n",
              "      <th>...</th>\n",
              "      <td>...</td>\n",
              "      <td>...</td>\n",
              "      <td>...</td>\n",
              "      <td>...</td>\n",
              "      <td>...</td>\n",
              "      <td>...</td>\n",
              "      <td>...</td>\n",
              "      <td>...</td>\n",
              "      <td>...</td>\n",
              "      <td>...</td>\n",
              "      <td>...</td>\n",
              "      <td>...</td>\n",
              "      <td>...</td>\n",
              "      <td>...</td>\n",
              "      <td>...</td>\n",
              "      <td>...</td>\n",
              "      <td>...</td>\n",
              "    </tr>\n",
              "    <tr>\n",
              "      <th>7354</th>\n",
              "      <td>8025</td>\n",
              "      <td>NaN</td>\n",
              "      <td>2022-05-06</td>\n",
              "      <td>shot</td>\n",
              "      <td>sharp object</td>\n",
              "      <td>NaN</td>\n",
              "      <td>M</td>\n",
              "      <td>NaN</td>\n",
              "      <td>Rosamond</td>\n",
              "      <td>CA</td>\n",
              "      <td>False</td>\n",
              "      <td>attack</td>\n",
              "      <td>NaN</td>\n",
              "      <td>False</td>\n",
              "      <td>-118.19</td>\n",
              "      <td>34.86</td>\n",
              "      <td>True</td>\n",
              "    </tr>\n",
              "    <tr>\n",
              "      <th>7355</th>\n",
              "      <td>8013</td>\n",
              "      <td>NaN</td>\n",
              "      <td>2022-05-07</td>\n",
              "      <td>shot</td>\n",
              "      <td>unknown weapon</td>\n",
              "      <td>25.00</td>\n",
              "      <td>M</td>\n",
              "      <td>NaN</td>\n",
              "      <td>Hallandale Beach</td>\n",
              "      <td>FL</td>\n",
              "      <td>False</td>\n",
              "      <td>attack</td>\n",
              "      <td>Foot</td>\n",
              "      <td>False</td>\n",
              "      <td>-80.13</td>\n",
              "      <td>25.99</td>\n",
              "      <td>True</td>\n",
              "    </tr>\n",
              "    <tr>\n",
              "      <th>7356</th>\n",
              "      <td>8015</td>\n",
              "      <td>NaN</td>\n",
              "      <td>2022-05-07</td>\n",
              "      <td>shot</td>\n",
              "      <td>incendiary weapon</td>\n",
              "      <td>NaN</td>\n",
              "      <td>M</td>\n",
              "      <td>NaN</td>\n",
              "      <td>Raleigh</td>\n",
              "      <td>NC</td>\n",
              "      <td>False</td>\n",
              "      <td>attack</td>\n",
              "      <td>Not fleeing</td>\n",
              "      <td>False</td>\n",
              "      <td>-78.60</td>\n",
              "      <td>35.75</td>\n",
              "      <td>True</td>\n",
              "    </tr>\n",
              "    <tr>\n",
              "      <th>7357</th>\n",
              "      <td>8023</td>\n",
              "      <td>NaN</td>\n",
              "      <td>2022-05-07</td>\n",
              "      <td>shot</td>\n",
              "      <td>gun</td>\n",
              "      <td>NaN</td>\n",
              "      <td>M</td>\n",
              "      <td>NaN</td>\n",
              "      <td>Wenatchee</td>\n",
              "      <td>WA</td>\n",
              "      <td>False</td>\n",
              "      <td>attack</td>\n",
              "      <td>NaN</td>\n",
              "      <td>False</td>\n",
              "      <td>-120.31</td>\n",
              "      <td>47.42</td>\n",
              "      <td>True</td>\n",
              "    </tr>\n",
              "    <tr>\n",
              "      <th>7358</th>\n",
              "      <td>8018</td>\n",
              "      <td>NaN</td>\n",
              "      <td>2022-05-08</td>\n",
              "      <td>shot</td>\n",
              "      <td>undetermined</td>\n",
              "      <td>NaN</td>\n",
              "      <td>M</td>\n",
              "      <td>NaN</td>\n",
              "      <td>Springdale</td>\n",
              "      <td>AR</td>\n",
              "      <td>False</td>\n",
              "      <td>attack</td>\n",
              "      <td>NaN</td>\n",
              "      <td>False</td>\n",
              "      <td>-94.14</td>\n",
              "      <td>36.16</td>\n",
              "      <td>True</td>\n",
              "    </tr>\n",
              "  </tbody>\n",
              "</table>\n",
              "<p>7359 rows × 17 columns</p>\n",
              "</div>\n",
              "      <button class=\"colab-df-convert\" onclick=\"convertToInteractive('df-70347bc6-4890-43ba-b41e-cfb3c0355e25')\"\n",
              "              title=\"Convert this dataframe to an interactive table.\"\n",
              "              style=\"display:none;\">\n",
              "        \n",
              "  <svg xmlns=\"http://www.w3.org/2000/svg\" height=\"24px\"viewBox=\"0 0 24 24\"\n",
              "       width=\"24px\">\n",
              "    <path d=\"M0 0h24v24H0V0z\" fill=\"none\"/>\n",
              "    <path d=\"M18.56 5.44l.94 2.06.94-2.06 2.06-.94-2.06-.94-.94-2.06-.94 2.06-2.06.94zm-11 1L8.5 8.5l.94-2.06 2.06-.94-2.06-.94L8.5 2.5l-.94 2.06-2.06.94zm10 10l.94 2.06.94-2.06 2.06-.94-2.06-.94-.94-2.06-.94 2.06-2.06.94z\"/><path d=\"M17.41 7.96l-1.37-1.37c-.4-.4-.92-.59-1.43-.59-.52 0-1.04.2-1.43.59L10.3 9.45l-7.72 7.72c-.78.78-.78 2.05 0 2.83L4 21.41c.39.39.9.59 1.41.59.51 0 1.02-.2 1.41-.59l7.78-7.78 2.81-2.81c.8-.78.8-2.07 0-2.86zM5.41 20L4 18.59l7.72-7.72 1.47 1.35L5.41 20z\"/>\n",
              "  </svg>\n",
              "      </button>\n",
              "      \n",
              "  <style>\n",
              "    .colab-df-container {\n",
              "      display:flex;\n",
              "      flex-wrap:wrap;\n",
              "      gap: 12px;\n",
              "    }\n",
              "\n",
              "    .colab-df-convert {\n",
              "      background-color: #E8F0FE;\n",
              "      border: none;\n",
              "      border-radius: 50%;\n",
              "      cursor: pointer;\n",
              "      display: none;\n",
              "      fill: #1967D2;\n",
              "      height: 32px;\n",
              "      padding: 0 0 0 0;\n",
              "      width: 32px;\n",
              "    }\n",
              "\n",
              "    .colab-df-convert:hover {\n",
              "      background-color: #E2EBFA;\n",
              "      box-shadow: 0px 1px 2px rgba(60, 64, 67, 0.3), 0px 1px 3px 1px rgba(60, 64, 67, 0.15);\n",
              "      fill: #174EA6;\n",
              "    }\n",
              "\n",
              "    [theme=dark] .colab-df-convert {\n",
              "      background-color: #3B4455;\n",
              "      fill: #D2E3FC;\n",
              "    }\n",
              "\n",
              "    [theme=dark] .colab-df-convert:hover {\n",
              "      background-color: #434B5C;\n",
              "      box-shadow: 0px 1px 3px 1px rgba(0, 0, 0, 0.15);\n",
              "      filter: drop-shadow(0px 1px 2px rgba(0, 0, 0, 0.3));\n",
              "      fill: #FFFFFF;\n",
              "    }\n",
              "  </style>\n",
              "\n",
              "      <script>\n",
              "        const buttonEl =\n",
              "          document.querySelector('#df-70347bc6-4890-43ba-b41e-cfb3c0355e25 button.colab-df-convert');\n",
              "        buttonEl.style.display =\n",
              "          google.colab.kernel.accessAllowed ? 'block' : 'none';\n",
              "\n",
              "        async function convertToInteractive(key) {\n",
              "          const element = document.querySelector('#df-70347bc6-4890-43ba-b41e-cfb3c0355e25');\n",
              "          const dataTable =\n",
              "            await google.colab.kernel.invokeFunction('convertToInteractive',\n",
              "                                                     [key], {});\n",
              "          if (!dataTable) return;\n",
              "\n",
              "          const docLinkHtml = 'Like what you see? Visit the ' +\n",
              "            '<a target=\"_blank\" href=https://colab.research.google.com/notebooks/data_table.ipynb>data table notebook</a>'\n",
              "            + ' to learn more about interactive tables.';\n",
              "          element.innerHTML = '';\n",
              "          dataTable['output_type'] = 'display_data';\n",
              "          await google.colab.output.renderOutput(dataTable, element);\n",
              "          const docLink = document.createElement('div');\n",
              "          docLink.innerHTML = docLinkHtml;\n",
              "          element.appendChild(docLink);\n",
              "        }\n",
              "      </script>\n",
              "    </div>\n",
              "  </div>\n",
              "  "
            ]
          },
          "metadata": {},
          "execution_count": 13
        }
      ]
    },
    {
      "cell_type": "markdown",
      "source": [
        "# Data Cleaning - Check for Missing Values and Duplicates\n",
        "<p>Consider how to deal with the NaN values. Perhaps substituting 0 is appropriate.</p>"
      ],
      "metadata": {
        "id": "vpQwMtOmZkwD"
      }
    },
    {
      "cell_type": "code",
      "source": [
        "# CHECK NaN VALUES\n",
        "print(df_hh_income)\n",
        "df_hh_income.isnull().any()"
      ],
      "metadata": {
        "colab": {
          "base_uri": "https://localhost:8080/"
        },
        "id": "euyBpzk_ZTvc",
        "outputId": "6f15e9e7-eb07-44f1-b562-2b192fc1c6af"
      },
      "execution_count": 17,
      "outputs": [
        {
          "output_type": "stream",
          "name": "stdout",
          "text": [
            "      Geographic Area                    City Median Income\n",
            "0                  AL              Abanda CDP         11207\n",
            "1                  AL          Abbeville city         25615\n",
            "2                  AL         Adamsville city         42575\n",
            "3                  AL            Addison town         37083\n",
            "4                  AL              Akron town         21667\n",
            "...               ...                     ...           ...\n",
            "29317              WY  Woods Landing-Jelm CDP           NaN\n",
            "29318              WY            Worland city         41523\n",
            "29319              WY             Wright town         77114\n",
            "29320              WY              Yoder town         37500\n",
            "29321              WY           Y-O Ranch CDP           NaN\n",
            "\n",
            "[29322 rows x 3 columns]\n"
          ]
        },
        {
          "output_type": "execute_result",
          "data": {
            "text/plain": [
              "Geographic Area    False\n",
              "City               False\n",
              "Median Income       True\n",
              "dtype: bool"
            ]
          },
          "metadata": {},
          "execution_count": 17
        }
      ]
    },
    {
      "cell_type": "code",
      "source": [
        "#  Replace nan with 0\n",
        "df_hh_income['Median Income'] = df_hh_income['Median Income'].replace(np.nan, 0)\n",
        "\n",
        "# we can also substitute NaN with 0 by using df.fillna() method ----  df.fillna(0, inplace=True)"
      ],
      "metadata": {
        "id": "09xNTWXdZ1zK"
      },
      "execution_count": 21,
      "outputs": []
    },
    {
      "cell_type": "code",
      "source": [
        "df_hh_income.isnull().any()"
      ],
      "metadata": {
        "colab": {
          "base_uri": "https://localhost:8080/"
        },
        "id": "WhaXmEz3a3up",
        "outputId": "9b436892-4299-491f-8437-ab8244c0f73c"
      },
      "execution_count": 22,
      "outputs": [
        {
          "output_type": "execute_result",
          "data": {
            "text/plain": [
              "Geographic Area    False\n",
              "City               False\n",
              "Median Income      False\n",
              "dtype: bool"
            ]
          },
          "metadata": {},
          "execution_count": 22
        }
      ]
    },
    {
      "cell_type": "code",
      "source": [
        "df_pct_poverty.isnull().any()"
      ],
      "metadata": {
        "colab": {
          "base_uri": "https://localhost:8080/"
        },
        "id": "FM9x5Inca4aQ",
        "outputId": "ca912905-8116-40cb-bc9f-d884e935f701"
      },
      "execution_count": 23,
      "outputs": [
        {
          "output_type": "execute_result",
          "data": {
            "text/plain": [
              "Geographic Area    False\n",
              "City               False\n",
              "poverty_rate       False\n",
              "dtype: bool"
            ]
          },
          "metadata": {},
          "execution_count": 23
        }
      ]
    },
    {
      "cell_type": "code",
      "source": [
        "df_pct_completed_hs.isnull().any()"
      ],
      "metadata": {
        "colab": {
          "base_uri": "https://localhost:8080/"
        },
        "id": "vw2ygcl-a8kw",
        "outputId": "27807b03-a07b-4e18-efd3-36bc02a3cdbe"
      },
      "execution_count": 24,
      "outputs": [
        {
          "output_type": "execute_result",
          "data": {
            "text/plain": [
              "Geographic Area         False\n",
              "City                    False\n",
              "percent_completed_hs    False\n",
              "dtype: bool"
            ]
          },
          "metadata": {},
          "execution_count": 24
        }
      ]
    },
    {
      "cell_type": "code",
      "source": [
        "df_share_race_city.isnull().any()"
      ],
      "metadata": {
        "colab": {
          "base_uri": "https://localhost:8080/"
        },
        "id": "4VcPWIRXa-o-",
        "outputId": "048a0f35-2e05-4311-b205-6992b359459b"
      },
      "execution_count": 25,
      "outputs": [
        {
          "output_type": "execute_result",
          "data": {
            "text/plain": [
              "Geographic area          False\n",
              "City                     False\n",
              "share_white              False\n",
              "share_black              False\n",
              "share_native_american    False\n",
              "share_asian              False\n",
              "share_hispanic           False\n",
              "dtype: bool"
            ]
          },
          "metadata": {},
          "execution_count": 25
        }
      ]
    },
    {
      "cell_type": "code",
      "source": [
        "df_fatalities.isnull().any()"
      ],
      "metadata": {
        "colab": {
          "base_uri": "https://localhost:8080/"
        },
        "id": "U8uaxYaKbBrL",
        "outputId": "1db0e48d-7ccb-48d6-dc90-8e9b38d722f3"
      },
      "execution_count": 26,
      "outputs": [
        {
          "output_type": "execute_result",
          "data": {
            "text/plain": [
              "id                         False\n",
              "name                        True\n",
              "date                       False\n",
              "manner_of_death            False\n",
              "armed                       True\n",
              "age                         True\n",
              "gender                      True\n",
              "race                        True\n",
              "city                       False\n",
              "state                      False\n",
              "signs_of_mental_illness    False\n",
              "threat_level               False\n",
              "flee                        True\n",
              "body_camera                False\n",
              "longitude                   True\n",
              "latitude                    True\n",
              "is_geocoding_exact         False\n",
              "dtype: bool"
            ]
          },
          "metadata": {},
          "execution_count": 26
        }
      ]
    },
    {
      "cell_type": "code",
      "source": [
        "print(df_fatalities.armed.isnull().any().sum())\n",
        "print(df_fatalities.race.isnull().any().sum())\n",
        "print(df_fatalities.flee.isnull().any().sum())"
      ],
      "metadata": {
        "colab": {
          "base_uri": "https://localhost:8080/"
        },
        "id": "glDEGlpHbN08",
        "outputId": "d18ed4f3-f95e-4de8-9182-77ebbf0da1a9"
      },
      "execution_count": 27,
      "outputs": [
        {
          "output_type": "stream",
          "name": "stdout",
          "text": [
            "1\n",
            "1\n",
            "1\n"
          ]
        }
      ]
    },
    {
      "cell_type": "code",
      "source": [
        "# CHECK DUPLICATE ROWS\n",
        "print(df_hh_income.duplicated().values.any())\n",
        "print(df_pct_poverty.duplicated().values.any())\n",
        "print(df_pct_completed_hs.duplicated().values.any())\n",
        "print(df_share_race_city.duplicated().values.any())\n",
        "print(df_fatalities.duplicated().values.any())"
      ],
      "metadata": {
        "colab": {
          "base_uri": "https://localhost:8080/"
        },
        "id": "AE-lXwLLbekk",
        "outputId": "3275f955-17ad-4816-96bc-ed4e3e8fc31d"
      },
      "execution_count": 29,
      "outputs": [
        {
          "output_type": "stream",
          "name": "stdout",
          "text": [
            "False\n",
            "False\n",
            "False\n",
            "False\n",
            "False\n"
          ]
        }
      ]
    },
    {
      "cell_type": "markdown",
      "source": [
        "# Chart the Poverty Rate in each US State\n",
        "<p>Create a bar chart that ranks the poverty rate from highest to lowest by US state. Which state has the highest poverty rate? Which state has the lowest poverty rate? Bar Plot</p>"
      ],
      "metadata": {
        "id": "Tp_xKKLAcDsH"
      }
    },
    {
      "cell_type": "code",
      "source": [
        "df_pct_poverty.info()"
      ],
      "metadata": {
        "colab": {
          "base_uri": "https://localhost:8080/"
        },
        "id": "1iAgQ7z-b0_9",
        "outputId": "7fd9dc64-2534-4543-eb28-f3f39dd77003"
      },
      "execution_count": 30,
      "outputs": [
        {
          "output_type": "stream",
          "name": "stdout",
          "text": [
            "<class 'pandas.core.frame.DataFrame'>\n",
            "RangeIndex: 29329 entries, 0 to 29328\n",
            "Data columns (total 3 columns):\n",
            " #   Column           Non-Null Count  Dtype \n",
            "---  ------           --------------  ----- \n",
            " 0   Geographic Area  29329 non-null  object\n",
            " 1   City             29329 non-null  object\n",
            " 2   poverty_rate     29329 non-null  object\n",
            "dtypes: object(3)\n",
            "memory usage: 687.5+ KB\n"
          ]
        }
      ]
    },
    {
      "cell_type": "code",
      "source": [
        "df_pct_poverty['Geographic Area'].unique()"
      ],
      "metadata": {
        "colab": {
          "base_uri": "https://localhost:8080/"
        },
        "id": "IF4sHqBPcV86",
        "outputId": "5594b288-26ca-4917-cf25-bf37c9c97827"
      },
      "execution_count": 32,
      "outputs": [
        {
          "output_type": "execute_result",
          "data": {
            "text/plain": [
              "array(['AL', 'AK', 'AZ', 'AR', 'CA', 'CO', 'CT', 'DE', 'DC', 'FL', 'GA',\n",
              "       'HI', 'ID', 'IL', 'IN', 'IA', 'KS', 'KY', 'LA', 'ME', 'MD', 'MA',\n",
              "       'MI', 'MN', 'MS', 'MO', 'MT', 'NE', 'NV', 'NH', 'NJ', 'NM', 'NY',\n",
              "       'NC', 'ND', 'OH', 'OK', 'OR', 'PA', 'RI', 'SC', 'SD', 'TN', 'TX',\n",
              "       'UT', 'VT', 'VA', 'WA', 'WV', 'WI', 'WY'], dtype=object)"
            ]
          },
          "metadata": {},
          "execution_count": 32
        }
      ]
    },
    {
      "cell_type": "code",
      "source": [
        "df_pct_poverty.poverty_rate.unique()\n",
        "df_pct_poverty.poverty_rate.replace('-', np.nan, regex=True, inplace=True)\n",
        "df_pct_poverty.poverty_rate = df_pct_poverty.poverty_rate.astype(float)"
      ],
      "metadata": {
        "id": "0tHdPojHcZPU"
      },
      "execution_count": 33,
      "outputs": []
    },
    {
      "cell_type": "code",
      "source": [
        "poverty = df_pct_poverty.groupby('Geographic Area')['poverty_rate'].mean().sort_values(ascending=False)\n",
        "poverty"
      ],
      "metadata": {
        "colab": {
          "base_uri": "https://localhost:8080/"
        },
        "id": "uiUMO8z-ce5-",
        "outputId": "76f778c6-34c9-4a00-c83d-f09840c233a5"
      },
      "execution_count": 34,
      "outputs": [
        {
          "output_type": "execute_result",
          "data": {
            "text/plain": [
              "Geographic Area\n",
              "MS   26.88\n",
              "AZ   25.67\n",
              "GA   23.78\n",
              "NM   23.08\n",
              "AR   22.96\n",
              "LA   22.34\n",
              "SC   22.16\n",
              "WV   21.13\n",
              "OK   20.66\n",
              "AL   20.65\n",
              "MO   20.11\n",
              "KY   20.08\n",
              "TX   19.92\n",
              "TN   19.89\n",
              "AK   19.85\n",
              "NC   19.75\n",
              "ID   18.24\n",
              "DC   18.00\n",
              "MI   17.90\n",
              "FL   17.57\n",
              "CA   17.12\n",
              "ME   16.89\n",
              "OR   16.52\n",
              "MT   16.51\n",
              "SD   16.03\n",
              "IN   15.50\n",
              "WA   15.02\n",
              "OH   14.85\n",
              "KS   14.76\n",
              "VA   14.59\n",
              "IL   13.88\n",
              "VT   13.79\n",
              "MN   13.75\n",
              "HI   13.40\n",
              "CO   13.36\n",
              "NE   12.98\n",
              "WI   12.86\n",
              "NH   12.66\n",
              "DE   12.56\n",
              "PA   12.52\n",
              "NV   12.47\n",
              "IA   12.29\n",
              "ND   12.16\n",
              "UT   11.98\n",
              "NY   11.67\n",
              "RI   10.37\n",
              "MD   10.31\n",
              "WY    9.89\n",
              "MA    9.59\n",
              "CT    9.14\n",
              "NJ    8.19\n",
              "Name: poverty_rate, dtype: float64"
            ]
          },
          "metadata": {},
          "execution_count": 34
        }
      ]
    },
    {
      "cell_type": "code",
      "source": [
        "plt.figure(figsize=(14,4))\n",
        "plt.suptitle('Poverty Rate in each US State')\n",
        "plt.ylabel('Poverty Rate', fontsize=14)\n",
        "plt.xlabel('US State', fontsize=14)\n",
        "\n",
        "for n in range(len(poverty)):\n",
        "    plt.xticks(fontsize=10, rotation=90)\n",
        "    plt.yticks(fontsize=14)\n",
        "    plt.bar(poverty.index[n], poverty[n])\n",
        "\n",
        "plt.show()"
      ],
      "metadata": {
        "colab": {
          "base_uri": "https://localhost:8080/",
          "height": 319
        },
        "id": "vbLe_o2CdcBC",
        "outputId": "1247d222-8463-4533-c629-ec469298c163"
      },
      "execution_count": 35,
      "outputs": [
        {
          "output_type": "display_data",
          "data": {
            "text/plain": [
              "<Figure size 1008x288 with 1 Axes>"
            ],
            "image/png": "[encoded data removed]"
          },
          "metadata": {
            "needs_background": "light"
          }
        }
      ]
    },
    {
      "cell_type": "markdown",
      "source": [
        "# Chart the High School Graduation Rate by US State\n",
        "<p>Show the High School Graduation Rate in ascending order of US States. Which state has the lowest high school graduation rate? Which state has the highest?</p>"
      ],
      "metadata": {
        "id": "SQzoTaAyfkCd"
      }
    },
    {
      "cell_type": "code",
      "source": [
        "df_pct_completed_hs.head()"
      ],
      "metadata": {
        "colab": {
          "base_uri": "https://localhost:8080/",
          "height": 206
        },
        "id": "sCrWAhlKfh0i",
        "outputId": "686eda97-d465-4e52-d58b-9470e9947b1d"
      },
      "execution_count": 37,
      "outputs": [
        {
          "output_type": "execute_result",
          "data": {
            "text/plain": [
              "  Geographic Area             City percent_completed_hs\n",
              "0              AL       Abanda CDP                 21.2\n",
              "1              AL   Abbeville city                 69.1\n",
              "2              AL  Adamsville city                 78.9\n",
              "3              AL     Addison town                 81.4\n",
              "4              AL       Akron town                 68.6"
            ],
            "text/html": [
              "\n",
              "  <div id=\"df-d5034a98-6141-40a3-9e5f-848eabb0f287\">\n",
              "    <div class=\"colab-df-container\">\n",
              "      <div>\n",
              "<style scoped>\n",
              "    .dataframe tbody tr th:only-of-type {\n",
              "        vertical-align: middle;\n",
              "    }\n",
              "\n",
              "    .dataframe tbody tr th {\n",
              "        vertical-align: top;\n",
              "    }\n",
              "\n",
              "    .dataframe thead th {\n",
              "        text-align: right;\n",
              "    }\n",
              "</style>\n",
              "<table border=\"1\" class=\"dataframe\">\n",
              "  <thead>\n",
              "    <tr style=\"text-align: right;\">\n",
              "      <th></th>\n",
              "      <th>Geographic Area</th>\n",
              "      <th>City</th>\n",
              "      <th>percent_completed_hs</th>\n",
              "    </tr>\n",
              "  </thead>\n",
              "  <tbody>\n",
              "    <tr>\n",
              "      <th>0</th>\n",
              "      <td>AL</td>\n",
              "      <td>Abanda CDP</td>\n",
              "      <td>21.2</td>\n",
              "    </tr>\n",
              "    <tr>\n",
              "      <th>1</th>\n",
              "      <td>AL</td>\n",
              "      <td>Abbeville city</td>\n",
              "      <td>69.1</td>\n",
              "    </tr>\n",
              "    <tr>\n",
              "      <th>2</th>\n",
              "      <td>AL</td>\n",
              "      <td>Adamsville city</td>\n",
              "      <td>78.9</td>\n",
              "    </tr>\n",
              "    <tr>\n",
              "      <th>3</th>\n",
              "      <td>AL</td>\n",
              "      <td>Addison town</td>\n",
              "      <td>81.4</td>\n",
              "    </tr>\n",
              "    <tr>\n",
              "      <th>4</th>\n",
              "      <td>AL</td>\n",
              "      <td>Akron town</td>\n",
              "      <td>68.6</td>\n",
              "    </tr>\n",
              "  </tbody>\n",
              "</table>\n",
              "</div>\n",
              "      <button class=\"colab-df-convert\" onclick=\"convertToInteractive('df-d5034a98-6141-40a3-9e5f-848eabb0f287')\"\n",
              "              title=\"Convert this dataframe to an interactive table.\"\n",
              "              style=\"display:none;\">\n",
              "        \n",
              "  <svg xmlns=\"http://www.w3.org/2000/svg\" height=\"24px\"viewBox=\"0 0 24 24\"\n",
              "       width=\"24px\">\n",
              "    <path d=\"M0 0h24v24H0V0z\" fill=\"none\"/>\n",
              "    <path d=\"M18.56 5.44l.94 2.06.94-2.06 2.06-.94-2.06-.94-.94-2.06-.94 2.06-2.06.94zm-11 1L8.5 8.5l.94-2.06 2.06-.94-2.06-.94L8.5 2.5l-.94 2.06-2.06.94zm10 10l.94 2.06.94-2.06 2.06-.94-2.06-.94-.94-2.06-.94 2.06-2.06.94z\"/><path d=\"M17.41 7.96l-1.37-1.37c-.4-.4-.92-.59-1.43-.59-.52 0-1.04.2-1.43.59L10.3 9.45l-7.72 7.72c-.78.78-.78 2.05 0 2.83L4 21.41c.39.39.9.59 1.41.59.51 0 1.02-.2 1.41-.59l7.78-7.78 2.81-2.81c.8-.78.8-2.07 0-2.86zM5.41 20L4 18.59l7.72-7.72 1.47 1.35L5.41 20z\"/>\n",
              "  </svg>\n",
              "      </button>\n",
              "      \n",
              "  <style>\n",
              "    .colab-df-container {\n",
              "      display:flex;\n",
              "      flex-wrap:wrap;\n",
              "      gap: 12px;\n",
              "    }\n",
              "\n",
              "    .colab-df-convert {\n",
              "      background-color: #E8F0FE;\n",
              "      border: none;\n",
              "      border-radius: 50%;\n",
              "      cursor: pointer;\n",
              "      display: none;\n",
              "      fill: #1967D2;\n",
              "      height: 32px;\n",
              "      padding: 0 0 0 0;\n",
              "      width: 32px;\n",
              "    }\n",
              "\n",
              "    .colab-df-convert:hover {\n",
              "      background-color: #E2EBFA;\n",
              "      box-shadow: 0px 1px 2px rgba(60, 64, 67, 0.3), 0px 1px 3px 1px rgba(60, 64, 67, 0.15);\n",
              "      fill: #174EA6;\n",
              "    }\n",
              "\n",
              "    [theme=dark] .colab-df-convert {\n",
              "      background-color: #3B4455;\n",
              "      fill: #D2E3FC;\n",
              "    }\n",
              "\n",
              "    [theme=dark] .colab-df-convert:hover {\n",
              "      background-color: #434B5C;\n",
              "      box-shadow: 0px 1px 3px 1px rgba(0, 0, 0, 0.15);\n",
              "      filter: drop-shadow(0px 1px 2px rgba(0, 0, 0, 0.3));\n",
              "      fill: #FFFFFF;\n",
              "    }\n",
              "  </style>\n",
              "\n",
              "      <script>\n",
              "        const buttonEl =\n",
              "          document.querySelector('#df-d5034a98-6141-40a3-9e5f-848eabb0f287 button.colab-df-convert');\n",
              "        buttonEl.style.display =\n",
              "          google.colab.kernel.accessAllowed ? 'block' : 'none';\n",
              "\n",
              "        async function convertToInteractive(key) {\n",
              "          const element = document.querySelector('#df-d5034a98-6141-40a3-9e5f-848eabb0f287');\n",
              "          const dataTable =\n",
              "            await google.colab.kernel.invokeFunction('convertToInteractive',\n",
              "                                                     [key], {});\n",
              "          if (!dataTable) return;\n",
              "\n",
              "          const docLinkHtml = 'Like what you see? Visit the ' +\n",
              "            '<a target=\"_blank\" href=https://colab.research.google.com/notebooks/data_table.ipynb>data table notebook</a>'\n",
              "            + ' to learn more about interactive tables.';\n",
              "          element.innerHTML = '';\n",
              "          dataTable['output_type'] = 'display_data';\n",
              "          await google.colab.output.renderOutput(dataTable, element);\n",
              "          const docLink = document.createElement('div');\n",
              "          docLink.innerHTML = docLinkHtml;\n",
              "          element.appendChild(docLink);\n",
              "        }\n",
              "      </script>\n",
              "    </div>\n",
              "  </div>\n",
              "  "
            ]
          },
          "metadata": {},
          "execution_count": 37
        }
      ]
    },
    {
      "cell_type": "code",
      "source": [
        "df_pct_completed_hs.percent_completed_hs.replace('-', np.nan, regex=True, inplace=True)\n",
        "df_pct_completed_hs.percent_completed_hs = df_pct_completed_hs.percent_completed_hs.astype(float)\n",
        "\n",
        "# astype() function to convert column from string/int to float, you can apply this on a specific column or on an entire DataFrame"
      ],
      "metadata": {
        "id": "sa2PvqzlfuM0"
      },
      "execution_count": 38,
      "outputs": []
    },
    {
      "cell_type": "code",
      "source": [
        "graduation = df_pct_completed_hs.groupby('Geographic Area')['percent_completed_hs'].mean().sort_values(ascending=False)\n",
        "graduation"
      ],
      "metadata": {
        "colab": {
          "base_uri": "https://localhost:8080/"
        },
        "id": "dn6d2fwNg42d",
        "outputId": "9cf75c53-c260-4f89-b1f1-a4057870fdb6"
      },
      "execution_count": 39,
      "outputs": [
        {
          "output_type": "execute_result",
          "data": {
            "text/plain": [
              "Geographic Area\n",
              "MA   92.40\n",
              "WY   92.10\n",
              "HI   91.67\n",
              "UT   91.62\n",
              "CT   91.59\n",
              "ME   91.43\n",
              "NJ   90.85\n",
              "NH   90.71\n",
              "NY   90.61\n",
              "MT   90.49\n",
              "WI   90.26\n",
              "IA   90.11\n",
              "CO   90.11\n",
              "NE   89.99\n",
              "VT   89.98\n",
              "MN   89.47\n",
              "DC   89.30\n",
              "MI   89.21\n",
              "PA   89.02\n",
              "RI   88.82\n",
              "DE   88.52\n",
              "IL   88.48\n",
              "MD   88.42\n",
              "OH   88.34\n",
              "OR   88.30\n",
              "KS   88.23\n",
              "WA   88.20\n",
              "ND   87.82\n",
              "SD   87.75\n",
              "NV   87.72\n",
              "IN   86.32\n",
              "FL   85.74\n",
              "ID   85.17\n",
              "VA   84.88\n",
              "AK   84.63\n",
              "MO   83.52\n",
              "NC   83.25\n",
              "OK   82.91\n",
              "KY   82.37\n",
              "WV   82.35\n",
              "CA   81.96\n",
              "TN   81.63\n",
              "NM   80.98\n",
              "SC   80.85\n",
              "AZ   80.47\n",
              "AL   80.30\n",
              "AR   79.95\n",
              "LA   79.29\n",
              "GA   79.01\n",
              "MS   78.47\n",
              "TX   75.69\n",
              "Name: percent_completed_hs, dtype: float64"
            ]
          },
          "metadata": {},
          "execution_count": 39
        }
      ]
    },
    {
      "cell_type": "code",
      "source": [
        "plt.figure(figsize=(14,4))\n",
        "plt.suptitle('High School Graduation Rate by US State')\n",
        "plt.ylabel('High School Graduation Rate', fontsize=14)\n",
        "plt.xlabel('US State', fontsize=14)\n",
        "\n",
        "plt.xticks(fontsize=10, rotation=90)\n",
        "plt.yticks(fontsize=14)\n",
        "plt.scatter(graduation.index, graduation)\n",
        "\n",
        "plt.show()"
      ],
      "metadata": {
        "colab": {
          "base_uri": "https://localhost:8080/",
          "height": 319
        },
        "id": "JmQv-Hnfg545",
        "outputId": "85d12acc-777a-4a0a-e63e-a7dd53efe035"
      },
      "execution_count": 40,
      "outputs": [
        {
          "output_type": "display_data",
          "data": {
            "text/plain": [
              "<Figure size 1008x288 with 1 Axes>"
            ],
            "image/png": "[encoded data removed]"
          },
          "metadata": {
            "needs_background": "light"
          }
        }
      ]
    },
    {
      "cell_type": "markdown",
      "source": [
        "# Visualise the Relationship between Poverty Rates and High School Graduation Rates\n",
        "Create a line chart with two y-axes to show if the rations of poverty and high school graduation move together."
      ],
      "metadata": {
        "id": "SVpn5w0Bh0zM"
      }
    },
    {
      "cell_type": "code",
      "source": [
        "graduation_vs = df_pct_completed_hs.groupby('Geographic Area')['percent_completed_hs'].mean()\n",
        "graduation_vs"
      ],
      "metadata": {
        "colab": {
          "base_uri": "https://localhost:8080/"
        },
        "id": "d-H0yVy4hAoy",
        "outputId": "121b2f51-2a9f-4c6c-cb50-ed7b3fbbc8ff"
      },
      "execution_count": 41,
      "outputs": [
        {
          "output_type": "execute_result",
          "data": {
            "text/plain": [
              "Geographic Area\n",
              "AK   84.63\n",
              "AL   80.30\n",
              "AR   79.95\n",
              "AZ   80.47\n",
              "CA   81.96\n",
              "CO   90.11\n",
              "CT   91.59\n",
              "DC   89.30\n",
              "DE   88.52\n",
              "FL   85.74\n",
              "GA   79.01\n",
              "HI   91.67\n",
              "IA   90.11\n",
              "ID   85.17\n",
              "IL   88.48\n",
              "IN   86.32\n",
              "KS   88.23\n",
              "KY   82.37\n",
              "LA   79.29\n",
              "MA   92.40\n",
              "MD   88.42\n",
              "ME   91.43\n",
              "MI   89.21\n",
              "MN   89.47\n",
              "MO   83.52\n",
              "MS   78.47\n",
              "MT   90.49\n",
              "NC   83.25\n",
              "ND   87.82\n",
              "NE   89.99\n",
              "NH   90.71\n",
              "NJ   90.85\n",
              "NM   80.98\n",
              "NV   87.72\n",
              "NY   90.61\n",
              "OH   88.34\n",
              "OK   82.91\n",
              "OR   88.30\n",
              "PA   89.02\n",
              "RI   88.82\n",
              "SC   80.85\n",
              "SD   87.75\n",
              "TN   81.63\n",
              "TX   75.69\n",
              "UT   91.62\n",
              "VA   84.88\n",
              "VT   89.98\n",
              "WA   88.20\n",
              "WI   90.26\n",
              "WV   82.35\n",
              "WY   92.10\n",
              "Name: percent_completed_hs, dtype: float64"
            ]
          },
          "metadata": {},
          "execution_count": 41
        }
      ]
    },
    {
      "cell_type": "code",
      "source": [
        "poverty_vs = df_pct_poverty.groupby('Geographic Area')['poverty_rate'].mean()\n",
        "poverty_vs"
      ],
      "metadata": {
        "colab": {
          "base_uri": "https://localhost:8080/"
        },
        "id": "eEAI4XC3iG4E",
        "outputId": "91daf9c1-ecf9-445b-a47d-45d5ae6b7e76"
      },
      "execution_count": 42,
      "outputs": [
        {
          "output_type": "execute_result",
          "data": {
            "text/plain": [
              "Geographic Area\n",
              "AK   19.85\n",
              "AL   20.65\n",
              "AR   22.96\n",
              "AZ   25.67\n",
              "CA   17.12\n",
              "CO   13.36\n",
              "CT    9.14\n",
              "DC   18.00\n",
              "DE   12.56\n",
              "FL   17.57\n",
              "GA   23.78\n",
              "HI   13.40\n",
              "IA   12.29\n",
              "ID   18.24\n",
              "IL   13.88\n",
              "IN   15.50\n",
              "KS   14.76\n",
              "KY   20.08\n",
              "LA   22.34\n",
              "MA    9.59\n",
              "MD   10.31\n",
              "ME   16.89\n",
              "MI   17.90\n",
              "MN   13.75\n",
              "MO   20.11\n",
              "MS   26.88\n",
              "MT   16.51\n",
              "NC   19.75\n",
              "ND   12.16\n",
              "NE   12.98\n",
              "NH   12.66\n",
              "NJ    8.19\n",
              "NM   23.08\n",
              "NV   12.47\n",
              "NY   11.67\n",
              "OH   14.85\n",
              "OK   20.66\n",
              "OR   16.52\n",
              "PA   12.52\n",
              "RI   10.37\n",
              "SC   22.16\n",
              "SD   16.03\n",
              "TN   19.89\n",
              "TX   19.92\n",
              "UT   11.98\n",
              "VA   14.59\n",
              "VT   13.79\n",
              "WA   15.02\n",
              "WI   12.86\n",
              "WV   21.13\n",
              "WY    9.89\n",
              "Name: poverty_rate, dtype: float64"
            ]
          },
          "metadata": {},
          "execution_count": 42
        }
      ]
    },
    {
      "cell_type": "code",
      "source": [
        "plt.figure(figsize=(14,3))\n",
        "plt.suptitle('Poverty Rates and High School Graduation Rates', fontsize=14)\n",
        "plt.xlabel('US State', fontsize=12)\n",
        "plt.xticks(fontsize=10, rotation=55)\n",
        "\n",
        "ax1 = plt.gca()\n",
        "ax2 = ax1.twinx()\n",
        " \n",
        "ax1.set_ylabel('Poverty', color='#E6232E') \n",
        "ax2.set_ylabel('Graduation', color='skyblue') \n",
        " \n",
        "ax1.plot(poverty_vs.index, poverty_vs, color='#E6232E', linewidth=3, linestyle='--')\n",
        "ax2.plot(graduation_vs.index, graduation_vs, color='skyblue', linewidth=3, marker='o')\n",
        "\n",
        "plt.show()"
      ],
      "metadata": {
        "colab": {
          "base_uri": "https://localhost:8080/",
          "height": 259
        },
        "id": "EgaWmD4GiQDM",
        "outputId": "446f62f4-74b4-4532-c2cf-5609bff2989b"
      },
      "execution_count": 44,
      "outputs": [
        {
          "output_type": "display_data",
          "data": {
            "text/plain": [
              "<Figure size 1008x216 with 2 Axes>"
            ],
            "image/png": "[encoded data removed]"
          },
          "metadata": {
            "needs_background": "light"
          }
        }
      ]
    },
    {
      "cell_type": "code",
      "source": [
        ""
      ],
      "metadata": {
        "id": "Lta8DSA1jPSo"
      },
      "execution_count": null,
      "outputs": []
    },
    {
      "cell_type": "code",
      "source": [
        ""
      ],
      "metadata": {
        "id": "R_TTzhtwjMxp"
      },
      "execution_count": null,
      "outputs": []
    },
    {
      "cell_type": "markdown",
      "source": [
        "# Create a Bar Chart with Subsections Showing the Racial Makeup of Each US State\n",
        "Visualise the share of the white, black, hispanic, asian and native american population in each US State using a bar chart with sub sections."
      ],
      "metadata": {
        "id": "AJqLeym4jbav"
      }
    },
    {
      "cell_type": "code",
      "source": [
        "df_share_race_city"
      ],
      "metadata": {
        "colab": {
          "base_uri": "https://localhost:8080/",
          "height": 424
        },
        "id": "oWivd_PbjNPi",
        "outputId": "fad96992-0887-4d6f-f1e6-915c02158165"
      },
      "execution_count": 45,
      "outputs": [
        {
          "output_type": "execute_result",
          "data": {
            "text/plain": [
              "      Geographic area                    City share_white share_black  \\\n",
              "0                  AL              Abanda CDP        67.2        30.2   \n",
              "1                  AL          Abbeville city        54.4        41.4   \n",
              "2                  AL         Adamsville city        52.3        44.9   \n",
              "3                  AL            Addison town        99.1         0.1   \n",
              "4                  AL              Akron town        13.2        86.5   \n",
              "...               ...                     ...         ...         ...   \n",
              "29263              WY  Woods Landing-Jelm CDP        95.9           0   \n",
              "29264              WY            Worland city        89.9         0.3   \n",
              "29265              WY             Wright town        94.5         0.1   \n",
              "29266              WY              Yoder town        97.4           0   \n",
              "29267              WY           Y-O Ranch CDP        92.8         1.5   \n",
              "\n",
              "      share_native_american share_asian share_hispanic  \n",
              "0                         0           0            1.6  \n",
              "1                       0.1           1            3.1  \n",
              "2                       0.5         0.3            2.3  \n",
              "3                         0         0.1            0.4  \n",
              "4                         0           0            0.3  \n",
              "...                     ...         ...            ...  \n",
              "29263                     0         2.1              0  \n",
              "29264                   1.3         0.6           16.6  \n",
              "29265                   1.4         0.2            6.2  \n",
              "29266                     0           0              4  \n",
              "29267                   2.6           0           11.8  \n",
              "\n",
              "[29268 rows x 7 columns]"
            ],
            "text/html": [
              "\n",
              "  <div id=\"df-872f504b-e659-4736-9aea-1e200bcb4321\">\n",
              "    <div class=\"colab-df-container\">\n",
              "      <div>\n",
              "<style scoped>\n",
              "    .dataframe tbody tr th:only-of-type {\n",
              "        vertical-align: middle;\n",
              "    }\n",
              "\n",
              "    .dataframe tbody tr th {\n",
              "        vertical-align: top;\n",
              "    }\n",
              "\n",
              "    .dataframe thead th {\n",
              "        text-align: right;\n",
              "    }\n",
              "</style>\n",
              "<table border=\"1\" class=\"dataframe\">\n",
              "  <thead>\n",
              "    <tr style=\"text-align: right;\">\n",
              "      <th></th>\n",
              "      <th>Geographic area</th>\n",
              "      <th>City</th>\n",
              "      <th>share_white</th>\n",
              "      <th>share_black</th>\n",
              "      <th>share_native_american</th>\n",
              "      <th>share_asian</th>\n",
              "      <th>share_hispanic</th>\n",
              "    </tr>\n",
              "  </thead>\n",
              "  <tbody>\n",
              "    <tr>\n",
              "      <th>0</th>\n",
              "      <td>AL</td>\n",
              "      <td>Abanda CDP</td>\n",
              "      <td>67.2</td>\n",
              "      <td>30.2</td>\n",
              "      <td>0</td>\n",
              "      <td>0</td>\n",
              "      <td>1.6</td>\n",
              "    </tr>\n",
              "    <tr>\n",
              "      <th>1</th>\n",
              "      <td>AL</td>\n",
              "      <td>Abbeville city</td>\n",
              "      <td>54.4</td>\n",
              "      <td>41.4</td>\n",
              "      <td>0.1</td>\n",
              "      <td>1</td>\n",
              "      <td>3.1</td>\n",
              "    </tr>\n",
              "    <tr>\n",
              "      <th>2</th>\n",
              "      <td>AL</td>\n",
              "      <td>Adamsville city</td>\n",
              "      <td>52.3</td>\n",
              "      <td>44.9</td>\n",
              "      <td>0.5</td>\n",
              "      <td>0.3</td>\n",
              "      <td>2.3</td>\n",
              "    </tr>\n",
              "    <tr>\n",
              "      <th>3</th>\n",
              "      <td>AL</td>\n",
              "      <td>Addison town</td>\n",
              "      <td>99.1</td>\n",
              "      <td>0.1</td>\n",
              "      <td>0</td>\n",
              "      <td>0.1</td>\n",
              "      <td>0.4</td>\n",
              "    </tr>\n",
              "    <tr>\n",
              "      <th>4</th>\n",
              "      <td>AL</td>\n",
              "      <td>Akron town</td>\n",
              "      <td>13.2</td>\n",
              "      <td>86.5</td>\n",
              "      <td>0</td>\n",
              "      <td>0</td>\n",
              "      <td>0.3</td>\n",
              "    </tr>\n",
              "    <tr>\n",
              "      <th>...</th>\n",
              "      <td>...</td>\n",
              "      <td>...</td>\n",
              "      <td>...</td>\n",
              "      <td>...</td>\n",
              "      <td>...</td>\n",
              "      <td>...</td>\n",
              "      <td>...</td>\n",
              "    </tr>\n",
              "    <tr>\n",
              "      <th>29263</th>\n",
              "      <td>WY</td>\n",
              "      <td>Woods Landing-Jelm CDP</td>\n",
              "      <td>95.9</td>\n",
              "      <td>0</td>\n",
              "      <td>0</td>\n",
              "      <td>2.1</td>\n",
              "      <td>0</td>\n",
              "    </tr>\n",
              "    <tr>\n",
              "      <th>29264</th>\n",
              "      <td>WY</td>\n",
              "      <td>Worland city</td>\n",
              "      <td>89.9</td>\n",
              "      <td>0.3</td>\n",
              "      <td>1.3</td>\n",
              "      <td>0.6</td>\n",
              "      <td>16.6</td>\n",
              "    </tr>\n",
              "    <tr>\n",
              "      <th>29265</th>\n",
              "      <td>WY</td>\n",
              "      <td>Wright town</td>\n",
              "      <td>94.5</td>\n",
              "      <td>0.1</td>\n",
              "      <td>1.4</td>\n",
              "      <td>0.2</td>\n",
              "      <td>6.2</td>\n",
              "    </tr>\n",
              "    <tr>\n",
              "      <th>29266</th>\n",
              "      <td>WY</td>\n",
              "      <td>Yoder town</td>\n",
              "      <td>97.4</td>\n",
              "      <td>0</td>\n",
              "      <td>0</td>\n",
              "      <td>0</td>\n",
              "      <td>4</td>\n",
              "    </tr>\n",
              "    <tr>\n",
              "      <th>29267</th>\n",
              "      <td>WY</td>\n",
              "      <td>Y-O Ranch CDP</td>\n",
              "      <td>92.8</td>\n",
              "      <td>1.5</td>\n",
              "      <td>2.6</td>\n",
              "      <td>0</td>\n",
              "      <td>11.8</td>\n",
              "    </tr>\n",
              "  </tbody>\n",
              "</table>\n",
              "<p>29268 rows × 7 columns</p>\n",
              "</div>\n",
              "      <button class=\"colab-df-convert\" onclick=\"convertToInteractive('df-872f504b-e659-4736-9aea-1e200bcb4321')\"\n",
              "              title=\"Convert this dataframe to an interactive table.\"\n",
              "              style=\"display:none;\">\n",
              "        \n",
              "  <svg xmlns=\"http://www.w3.org/2000/svg\" height=\"24px\"viewBox=\"0 0 24 24\"\n",
              "       width=\"24px\">\n",
              "    <path d=\"M0 0h24v24H0V0z\" fill=\"none\"/>\n",
              "    <path d=\"M18.56 5.44l.94 2.06.94-2.06 2.06-.94-2.06-.94-.94-2.06-.94 2.06-2.06.94zm-11 1L8.5 8.5l.94-2.06 2.06-.94-2.06-.94L8.5 2.5l-.94 2.06-2.06.94zm10 10l.94 2.06.94-2.06 2.06-.94-2.06-.94-.94-2.06-.94 2.06-2.06.94z\"/><path d=\"M17.41 7.96l-1.37-1.37c-.4-.4-.92-.59-1.43-.59-.52 0-1.04.2-1.43.59L10.3 9.45l-7.72 7.72c-.78.78-.78 2.05 0 2.83L4 21.41c.39.39.9.59 1.41.59.51 0 1.02-.2 1.41-.59l7.78-7.78 2.81-2.81c.8-.78.8-2.07 0-2.86zM5.41 20L4 18.59l7.72-7.72 1.47 1.35L5.41 20z\"/>\n",
              "  </svg>\n",
              "      </button>\n",
              "      \n",
              "  <style>\n",
              "    .colab-df-container {\n",
              "      display:flex;\n",
              "      flex-wrap:wrap;\n",
              "      gap: 12px;\n",
              "    }\n",
              "\n",
              "    .colab-df-convert {\n",
              "      background-color: #E8F0FE;\n",
              "      border: none;\n",
              "      border-radius: 50%;\n",
              "      cursor: pointer;\n",
              "      display: none;\n",
              "      fill: #1967D2;\n",
              "      height: 32px;\n",
              "      padding: 0 0 0 0;\n",
              "      width: 32px;\n",
              "    }\n",
              "\n",
              "    .colab-df-convert:hover {\n",
              "      background-color: #E2EBFA;\n",
              "      box-shadow: 0px 1px 2px rgba(60, 64, 67, 0.3), 0px 1px 3px 1px rgba(60, 64, 67, 0.15);\n",
              "      fill: #174EA6;\n",
              "    }\n",
              "\n",
              "    [theme=dark] .colab-df-convert {\n",
              "      background-color: #3B4455;\n",
              "      fill: #D2E3FC;\n",
              "    }\n",
              "\n",
              "    [theme=dark] .colab-df-convert:hover {\n",
              "      background-color: #434B5C;\n",
              "      box-shadow: 0px 1px 3px 1px rgba(0, 0, 0, 0.15);\n",
              "      filter: drop-shadow(0px 1px 2px rgba(0, 0, 0, 0.3));\n",
              "      fill: #FFFFFF;\n",
              "    }\n",
              "  </style>\n",
              "\n",
              "      <script>\n",
              "        const buttonEl =\n",
              "          document.querySelector('#df-872f504b-e659-4736-9aea-1e200bcb4321 button.colab-df-convert');\n",
              "        buttonEl.style.display =\n",
              "          google.colab.kernel.accessAllowed ? 'block' : 'none';\n",
              "\n",
              "        async function convertToInteractive(key) {\n",
              "          const element = document.querySelector('#df-872f504b-e659-4736-9aea-1e200bcb4321');\n",
              "          const dataTable =\n",
              "            await google.colab.kernel.invokeFunction('convertToInteractive',\n",
              "                                                     [key], {});\n",
              "          if (!dataTable) return;\n",
              "\n",
              "          const docLinkHtml = 'Like what you see? Visit the ' +\n",
              "            '<a target=\"_blank\" href=https://colab.research.google.com/notebooks/data_table.ipynb>data table notebook</a>'\n",
              "            + ' to learn more about interactive tables.';\n",
              "          element.innerHTML = '';\n",
              "          dataTable['output_type'] = 'display_data';\n",
              "          await google.colab.output.renderOutput(dataTable, element);\n",
              "          const docLink = document.createElement('div');\n",
              "          docLink.innerHTML = docLinkHtml;\n",
              "          element.appendChild(docLink);\n",
              "        }\n",
              "      </script>\n",
              "    </div>\n",
              "  </div>\n",
              "  "
            ]
          },
          "metadata": {},
          "execution_count": 45
        }
      ]
    },
    {
      "cell_type": "code",
      "source": [
        "df_share_race_city[['share_white', 'share_black', 'share_native_american', 'share_asian', 'share_hispanic']] = df_share_race_city[['share_white', 'share_black', 'share_native_american', 'share_asian', 'share_hispanic']].apply(pd.to_numeric, errors='coerce')\n",
        "df_share_race_city\n",
        "# .to_numeric converts argument to a numeric type. errors=‘coerce’ means invalid parsing will be set as NaN."
      ],
      "metadata": {
        "colab": {
          "base_uri": "https://localhost:8080/",
          "height": 424
        },
        "id": "iDAJxyq1jgc9",
        "outputId": "3a749b4b-1574-49ff-a1d3-43a4e602e076"
      },
      "execution_count": 48,
      "outputs": [
        {
          "output_type": "execute_result",
          "data": {
            "text/plain": [
              "      Geographic area                    City  share_white  share_black  \\\n",
              "0                  AL              Abanda CDP        67.20        30.20   \n",
              "1                  AL          Abbeville city        54.40        41.40   \n",
              "2                  AL         Adamsville city        52.30        44.90   \n",
              "3                  AL            Addison town        99.10         0.10   \n",
              "4                  AL              Akron town        13.20        86.50   \n",
              "...               ...                     ...          ...          ...   \n",
              "29263              WY  Woods Landing-Jelm CDP        95.90         0.00   \n",
              "29264              WY            Worland city        89.90         0.30   \n",
              "29265              WY             Wright town        94.50         0.10   \n",
              "29266              WY              Yoder town        97.40         0.00   \n",
              "29267              WY           Y-O Ranch CDP        92.80         1.50   \n",
              "\n",
              "       share_native_american  share_asian  share_hispanic  \n",
              "0                       0.00         0.00            1.60  \n",
              "1                       0.10         1.00            3.10  \n",
              "2                       0.50         0.30            2.30  \n",
              "3                       0.00         0.10            0.40  \n",
              "4                       0.00         0.00            0.30  \n",
              "...                      ...          ...             ...  \n",
              "29263                   0.00         2.10            0.00  \n",
              "29264                   1.30         0.60           16.60  \n",
              "29265                   1.40         0.20            6.20  \n",
              "29266                   0.00         0.00            4.00  \n",
              "29267                   2.60         0.00           11.80  \n",
              "\n",
              "[29268 rows x 7 columns]"
            ],
            "text/html": [
              "\n",
              "  <div id=\"df-4de9302d-6b26-4e0c-b834-4d709c9df798\">\n",
              "    <div class=\"colab-df-container\">\n",
              "      <div>\n",
              "<style scoped>\n",
              "    .dataframe tbody tr th:only-of-type {\n",
              "        vertical-align: middle;\n",
              "    }\n",
              "\n",
              "    .dataframe tbody tr th {\n",
              "        vertical-align: top;\n",
              "    }\n",
              "\n",
              "    .dataframe thead th {\n",
              "        text-align: right;\n",
              "    }\n",
              "</style>\n",
              "<table border=\"1\" class=\"dataframe\">\n",
              "  <thead>\n",
              "    <tr style=\"text-align: right;\">\n",
              "      <th></th>\n",
              "      <th>Geographic area</th>\n",
              "      <th>City</th>\n",
              "      <th>share_white</th>\n",
              "      <th>share_black</th>\n",
              "      <th>share_native_american</th>\n",
              "      <th>share_asian</th>\n",
              "      <th>share_hispanic</th>\n",
              "    </tr>\n",
              "  </thead>\n",
              "  <tbody>\n",
              "    <tr>\n",
              "      <th>0</th>\n",
              "      <td>AL</td>\n",
              "      <td>Abanda CDP</td>\n",
              "      <td>67.20</td>\n",
              "      <td>30.20</td>\n",
              "      <td>0.00</td>\n",
              "      <td>0.00</td>\n",
              "      <td>1.60</td>\n",
              "    </tr>\n",
              "    <tr>\n",
              "      <th>1</th>\n",
              "      <td>AL</td>\n",
              "      <td>Abbeville city</td>\n",
              "      <td>54.40</td>\n",
              "      <td>41.40</td>\n",
              "      <td>0.10</td>\n",
              "      <td>1.00</td>\n",
              "      <td>3.10</td>\n",
              "    </tr>\n",
              "    <tr>\n",
              "      <th>2</th>\n",
              "      <td>AL</td>\n",
              "      <td>Adamsville city</td>\n",
              "      <td>52.30</td>\n",
              "      <td>44.90</td>\n",
              "      <td>0.50</td>\n",
              "      <td>0.30</td>\n",
              "      <td>2.30</td>\n",
              "    </tr>\n",
              "    <tr>\n",
              "      <th>3</th>\n",
              "      <td>AL</td>\n",
              "      <td>Addison town</td>\n",
              "      <td>99.10</td>\n",
              "      <td>0.10</td>\n",
              "      <td>0.00</td>\n",
              "      <td>0.10</td>\n",
              "      <td>0.40</td>\n",
              "    </tr>\n",
              "    <tr>\n",
              "      <th>4</th>\n",
              "      <td>AL</td>\n",
              "      <td>Akron town</td>\n",
              "      <td>13.20</td>\n",
              "      <td>86.50</td>\n",
              "      <td>0.00</td>\n",
              "      <td>0.00</td>\n",
              "      <td>0.30</td>\n",
              "    </tr>\n",
              "    <tr>\n",
              "      <th>...</th>\n",
              "      <td>...</td>\n",
              "      <td>...</td>\n",
              "      <td>...</td>\n",
              "      <td>...</td>\n",
              "      <td>...</td>\n",
              "      <td>...</td>\n",
              "      <td>...</td>\n",
              "    </tr>\n",
              "    <tr>\n",
              "      <th>29263</th>\n",
              "      <td>WY</td>\n",
              "      <td>Woods Landing-Jelm CDP</td>\n",
              "      <td>95.90</td>\n",
              "      <td>0.00</td>\n",
              "      <td>0.00</td>\n",
              "      <td>2.10</td>\n",
              "      <td>0.00</td>\n",
              "    </tr>\n",
              "    <tr>\n",
              "      <th>29264</th>\n",
              "      <td>WY</td>\n",
              "      <td>Worland city</td>\n",
              "      <td>89.90</td>\n",
              "      <td>0.30</td>\n",
              "      <td>1.30</td>\n",
              "      <td>0.60</td>\n",
              "      <td>16.60</td>\n",
              "    </tr>\n",
              "    <tr>\n",
              "      <th>29265</th>\n",
              "      <td>WY</td>\n",
              "      <td>Wright town</td>\n",
              "      <td>94.50</td>\n",
              "      <td>0.10</td>\n",
              "      <td>1.40</td>\n",
              "      <td>0.20</td>\n",
              "      <td>6.20</td>\n",
              "    </tr>\n",
              "    <tr>\n",
              "      <th>29266</th>\n",
              "      <td>WY</td>\n",
              "      <td>Yoder town</td>\n",
              "      <td>97.40</td>\n",
              "      <td>0.00</td>\n",
              "      <td>0.00</td>\n",
              "      <td>0.00</td>\n",
              "      <td>4.00</td>\n",
              "    </tr>\n",
              "    <tr>\n",
              "      <th>29267</th>\n",
              "      <td>WY</td>\n",
              "      <td>Y-O Ranch CDP</td>\n",
              "      <td>92.80</td>\n",
              "      <td>1.50</td>\n",
              "      <td>2.60</td>\n",
              "      <td>0.00</td>\n",
              "      <td>11.80</td>\n",
              "    </tr>\n",
              "  </tbody>\n",
              "</table>\n",
              "<p>29268 rows × 7 columns</p>\n",
              "</div>\n",
              "      <button class=\"colab-df-convert\" onclick=\"convertToInteractive('df-4de9302d-6b26-4e0c-b834-4d709c9df798')\"\n",
              "              title=\"Convert this dataframe to an interactive table.\"\n",
              "              style=\"display:none;\">\n",
              "        \n",
              "  <svg xmlns=\"http://www.w3.org/2000/svg\" height=\"24px\"viewBox=\"0 0 24 24\"\n",
              "       width=\"24px\">\n",
              "    <path d=\"M0 0h24v24H0V0z\" fill=\"none\"/>\n",
              "    <path d=\"M18.56 5.44l.94 2.06.94-2.06 2.06-.94-2.06-.94-.94-2.06-.94 2.06-2.06.94zm-11 1L8.5 8.5l.94-2.06 2.06-.94-2.06-.94L8.5 2.5l-.94 2.06-2.06.94zm10 10l.94 2.06.94-2.06 2.06-.94-2.06-.94-.94-2.06-.94 2.06-2.06.94z\"/><path d=\"M17.41 7.96l-1.37-1.37c-.4-.4-.92-.59-1.43-.59-.52 0-1.04.2-1.43.59L10.3 9.45l-7.72 7.72c-.78.78-.78 2.05 0 2.83L4 21.41c.39.39.9.59 1.41.59.51 0 1.02-.2 1.41-.59l7.78-7.78 2.81-2.81c.8-.78.8-2.07 0-2.86zM5.41 20L4 18.59l7.72-7.72 1.47 1.35L5.41 20z\"/>\n",
              "  </svg>\n",
              "      </button>\n",
              "      \n",
              "  <style>\n",
              "    .colab-df-container {\n",
              "      display:flex;\n",
              "      flex-wrap:wrap;\n",
              "      gap: 12px;\n",
              "    }\n",
              "\n",
              "    .colab-df-convert {\n",
              "      background-color: #E8F0FE;\n",
              "      border: none;\n",
              "      border-radius: 50%;\n",
              "      cursor: pointer;\n",
              "      display: none;\n",
              "      fill: #1967D2;\n",
              "      height: 32px;\n",
              "      padding: 0 0 0 0;\n",
              "      width: 32px;\n",
              "    }\n",
              "\n",
              "    .colab-df-convert:hover {\n",
              "      background-color: #E2EBFA;\n",
              "      box-shadow: 0px 1px 2px rgba(60, 64, 67, 0.3), 0px 1px 3px 1px rgba(60, 64, 67, 0.15);\n",
              "      fill: #174EA6;\n",
              "    }\n",
              "\n",
              "    [theme=dark] .colab-df-convert {\n",
              "      background-color: #3B4455;\n",
              "      fill: #D2E3FC;\n",
              "    }\n",
              "\n",
              "    [theme=dark] .colab-df-convert:hover {\n",
              "      background-color: #434B5C;\n",
              "      box-shadow: 0px 1px 3px 1px rgba(0, 0, 0, 0.15);\n",
              "      filter: drop-shadow(0px 1px 2px rgba(0, 0, 0, 0.3));\n",
              "      fill: #FFFFFF;\n",
              "    }\n",
              "  </style>\n",
              "\n",
              "      <script>\n",
              "        const buttonEl =\n",
              "          document.querySelector('#df-4de9302d-6b26-4e0c-b834-4d709c9df798 button.colab-df-convert');\n",
              "        buttonEl.style.display =\n",
              "          google.colab.kernel.accessAllowed ? 'block' : 'none';\n",
              "\n",
              "        async function convertToInteractive(key) {\n",
              "          const element = document.querySelector('#df-4de9302d-6b26-4e0c-b834-4d709c9df798');\n",
              "          const dataTable =\n",
              "            await google.colab.kernel.invokeFunction('convertToInteractive',\n",
              "                                                     [key], {});\n",
              "          if (!dataTable) return;\n",
              "\n",
              "          const docLinkHtml = 'Like what you see? Visit the ' +\n",
              "            '<a target=\"_blank\" href=https://colab.research.google.com/notebooks/data_table.ipynb>data table notebook</a>'\n",
              "            + ' to learn more about interactive tables.';\n",
              "          element.innerHTML = '';\n",
              "          dataTable['output_type'] = 'display_data';\n",
              "          await google.colab.output.renderOutput(dataTable, element);\n",
              "          const docLink = document.createElement('div');\n",
              "          docLink.innerHTML = docLinkHtml;\n",
              "          element.appendChild(docLink);\n",
              "        }\n",
              "      </script>\n",
              "    </div>\n",
              "  </div>\n",
              "  "
            ]
          },
          "metadata": {},
          "execution_count": 48
        }
      ]
    },
    {
      "cell_type": "code",
      "source": [
        "racial = df_share_race_city.groupby('Geographic area').agg({'share_white': 'mean', 'share_black': 'mean', 'share_native_american': 'mean', 'share_asian': 'mean', 'share_hispanic': 'mean'})\n",
        "racial.head()"
      ],
      "metadata": {
        "colab": {
          "base_uri": "https://localhost:8080/",
          "height": 237
        },
        "id": "U-4lpmhxlUeR",
        "outputId": "9cfbe8ac-afd8-4a0c-b416-c85c4e0e89da"
      },
      "execution_count": 47,
      "outputs": [
        {
          "output_type": "execute_result",
          "data": {
            "text/plain": [
              "                 share_white  share_black  share_native_american  share_asian  \\\n",
              "Geographic area                                                                 \n",
              "AK                     45.65         0.57                  45.86         1.39   \n",
              "AL                     72.51        23.32                   0.66         0.48   \n",
              "AR                     78.45        16.30                   0.76         0.48   \n",
              "AZ                     59.93         0.95                  28.59         0.73   \n",
              "CA                     71.87         2.69                   1.72         5.57   \n",
              "\n",
              "                 share_hispanic  \n",
              "Geographic area                  \n",
              "AK                         2.15  \n",
              "AL                         2.98  \n",
              "AR                         4.27  \n",
              "AZ                        20.14  \n",
              "CA                        29.65  "
            ],
            "text/html": [
              "\n",
              "  <div id=\"df-7ebc8177-6607-4bb9-a106-8e7dd25aa978\">\n",
              "    <div class=\"colab-df-container\">\n",
              "      <div>\n",
              "<style scoped>\n",
              "    .dataframe tbody tr th:only-of-type {\n",
              "        vertical-align: middle;\n",
              "    }\n",
              "\n",
              "    .dataframe tbody tr th {\n",
              "        vertical-align: top;\n",
              "    }\n",
              "\n",
              "    .dataframe thead th {\n",
              "        text-align: right;\n",
              "    }\n",
              "</style>\n",
              "<table border=\"1\" class=\"dataframe\">\n",
              "  <thead>\n",
              "    <tr style=\"text-align: right;\">\n",
              "      <th></th>\n",
              "      <th>share_white</th>\n",
              "      <th>share_black</th>\n",
              "      <th>share_native_american</th>\n",
              "      <th>share_asian</th>\n",
              "      <th>share_hispanic</th>\n",
              "    </tr>\n",
              "    <tr>\n",
              "      <th>Geographic area</th>\n",
              "      <th></th>\n",
              "      <th></th>\n",
              "      <th></th>\n",
              "      <th></th>\n",
              "      <th></th>\n",
              "    </tr>\n",
              "  </thead>\n",
              "  <tbody>\n",
              "    <tr>\n",
              "      <th>AK</th>\n",
              "      <td>45.65</td>\n",
              "      <td>0.57</td>\n",
              "      <td>45.86</td>\n",
              "      <td>1.39</td>\n",
              "      <td>2.15</td>\n",
              "    </tr>\n",
              "    <tr>\n",
              "      <th>AL</th>\n",
              "      <td>72.51</td>\n",
              "      <td>23.32</td>\n",
              "      <td>0.66</td>\n",
              "      <td>0.48</td>\n",
              "      <td>2.98</td>\n",
              "    </tr>\n",
              "    <tr>\n",
              "      <th>AR</th>\n",
              "      <td>78.45</td>\n",
              "      <td>16.30</td>\n",
              "      <td>0.76</td>\n",
              "      <td>0.48</td>\n",
              "      <td>4.27</td>\n",
              "    </tr>\n",
              "    <tr>\n",
              "      <th>AZ</th>\n",
              "      <td>59.93</td>\n",
              "      <td>0.95</td>\n",
              "      <td>28.59</td>\n",
              "      <td>0.73</td>\n",
              "      <td>20.14</td>\n",
              "    </tr>\n",
              "    <tr>\n",
              "      <th>CA</th>\n",
              "      <td>71.87</td>\n",
              "      <td>2.69</td>\n",
              "      <td>1.72</td>\n",
              "      <td>5.57</td>\n",
              "      <td>29.65</td>\n",
              "    </tr>\n",
              "  </tbody>\n",
              "</table>\n",
              "</div>\n",
              "      <button class=\"colab-df-convert\" onclick=\"convertToInteractive('df-7ebc8177-6607-4bb9-a106-8e7dd25aa978')\"\n",
              "              title=\"Convert this dataframe to an interactive table.\"\n",
              "              style=\"display:none;\">\n",
              "        \n",
              "  <svg xmlns=\"http://www.w3.org/2000/svg\" height=\"24px\"viewBox=\"0 0 24 24\"\n",
              "       width=\"24px\">\n",
              "    <path d=\"M0 0h24v24H0V0z\" fill=\"none\"/>\n",
              "    <path d=\"M18.56 5.44l.94 2.06.94-2.06 2.06-.94-2.06-.94-.94-2.06-.94 2.06-2.06.94zm-11 1L8.5 8.5l.94-2.06 2.06-.94-2.06-.94L8.5 2.5l-.94 2.06-2.06.94zm10 10l.94 2.06.94-2.06 2.06-.94-2.06-.94-.94-2.06-.94 2.06-2.06.94z\"/><path d=\"M17.41 7.96l-1.37-1.37c-.4-.4-.92-.59-1.43-.59-.52 0-1.04.2-1.43.59L10.3 9.45l-7.72 7.72c-.78.78-.78 2.05 0 2.83L4 21.41c.39.39.9.59 1.41.59.51 0 1.02-.2 1.41-.59l7.78-7.78 2.81-2.81c.8-.78.8-2.07 0-2.86zM5.41 20L4 18.59l7.72-7.72 1.47 1.35L5.41 20z\"/>\n",
              "  </svg>\n",
              "      </button>\n",
              "      \n",
              "  <style>\n",
              "    .colab-df-container {\n",
              "      display:flex;\n",
              "      flex-wrap:wrap;\n",
              "      gap: 12px;\n",
              "    }\n",
              "\n",
              "    .colab-df-convert {\n",
              "      background-color: #E8F0FE;\n",
              "      border: none;\n",
              "      border-radius: 50%;\n",
              "      cursor: pointer;\n",
              "      display: none;\n",
              "      fill: #1967D2;\n",
              "      height: 32px;\n",
              "      padding: 0 0 0 0;\n",
              "      width: 32px;\n",
              "    }\n",
              "\n",
              "    .colab-df-convert:hover {\n",
              "      background-color: #E2EBFA;\n",
              "      box-shadow: 0px 1px 2px rgba(60, 64, 67, 0.3), 0px 1px 3px 1px rgba(60, 64, 67, 0.15);\n",
              "      fill: #174EA6;\n",
              "    }\n",
              "\n",
              "    [theme=dark] .colab-df-convert {\n",
              "      background-color: #3B4455;\n",
              "      fill: #D2E3FC;\n",
              "    }\n",
              "\n",
              "    [theme=dark] .colab-df-convert:hover {\n",
              "      background-color: #434B5C;\n",
              "      box-shadow: 0px 1px 3px 1px rgba(0, 0, 0, 0.15);\n",
              "      filter: drop-shadow(0px 1px 2px rgba(0, 0, 0, 0.3));\n",
              "      fill: #FFFFFF;\n",
              "    }\n",
              "  </style>\n",
              "\n",
              "      <script>\n",
              "        const buttonEl =\n",
              "          document.querySelector('#df-7ebc8177-6607-4bb9-a106-8e7dd25aa978 button.colab-df-convert');\n",
              "        buttonEl.style.display =\n",
              "          google.colab.kernel.accessAllowed ? 'block' : 'none';\n",
              "\n",
              "        async function convertToInteractive(key) {\n",
              "          const element = document.querySelector('#df-7ebc8177-6607-4bb9-a106-8e7dd25aa978');\n",
              "          const dataTable =\n",
              "            await google.colab.kernel.invokeFunction('convertToInteractive',\n",
              "                                                     [key], {});\n",
              "          if (!dataTable) return;\n",
              "\n",
              "          const docLinkHtml = 'Like what you see? Visit the ' +\n",
              "            '<a target=\"_blank\" href=https://colab.research.google.com/notebooks/data_table.ipynb>data table notebook</a>'\n",
              "            + ' to learn more about interactive tables.';\n",
              "          element.innerHTML = '';\n",
              "          dataTable['output_type'] = 'display_data';\n",
              "          await google.colab.output.renderOutput(dataTable, element);\n",
              "          const docLink = document.createElement('div');\n",
              "          docLink.innerHTML = docLinkHtml;\n",
              "          element.appendChild(docLink);\n",
              "        }\n",
              "      </script>\n",
              "    </div>\n",
              "  </div>\n",
              "  "
            ]
          },
          "metadata": {},
          "execution_count": 47
        }
      ]
    },
    {
      "cell_type": "code",
      "source": [
        "x_indexes = np.arange(len(racial))\n",
        "\n",
        "color_list = list(colors._colors_full_map.values())\n",
        "# colors_list = []\n",
        "# for _ in range(5):\n",
        "#     colors_list.append(random.choice(color_list))\n",
        "\n",
        "plt.figure(figsize=(14,8))\n",
        "plt.suptitle('Racial Makeup of Each US State')\n",
        "plt.ylabel('%', fontsize=14)\n",
        "plt.xlabel('US State', fontsize=14)\n",
        "\n",
        "labels = []\n",
        "for n in range(len(racial)):\n",
        "    plt.bar(racial.index[n], racial['share_white'][n], color=color_list[0])\n",
        "    plt.bar(racial.index[n], racial['share_black'][n], color=color_list[1])\n",
        "    plt.bar(racial.index[n], racial['share_native_american'][n], color=color_list[2])\n",
        "    plt.bar(racial.index[n], racial['share_asian'][n], color=color_list[10])\n",
        "    plt.bar(racial.index[n], racial['share_hispanic'][n], color=color_list[9])\n",
        "    labels.append(racial.index[n])\n",
        "\n",
        "white_legend = mpatches.Patch(label='White', color=color_list[0])\n",
        "black_legend = mpatches.Patch(label='Black', color=color_list[1])\n",
        "native_american_legend = mpatches.Patch(label='Native American', color=color_list[2])\n",
        "asian_legend = mpatches.Patch(label='Asian', color=color_list[10])\n",
        "hispanic_legend = mpatches.Patch(label='Hispanic', color=color_list[9])\n",
        "\n",
        "plt.legend(handles=[white_legend, black_legend, native_american_legend, asian_legend, hispanic_legend], loc='best', frameon=False)\n",
        "\n",
        "plt.xticks(ticks=x_indexes, labels=labels, fontsize=10, rotation=75)\n",
        "plt.yticks(fontsize=10)\n",
        "\n",
        "plt.show()"
      ],
      "metadata": {
        "colab": {
          "base_uri": "https://localhost:8080/",
          "height": 567
        },
        "id": "zE7YhH7MlcDx",
        "outputId": "0332731f-26f2-44ea-bfdc-910cd6d7e88c"
      },
      "execution_count": 53,
      "outputs": [
        {
          "output_type": "display_data",
          "data": {
            "text/plain": [
              "<Figure size 1008x576 with 1 Axes>"
            ],
            "image/png": "[encoded data removed]"
          },
          "metadata": {
            "needs_background": "light"
          }
        }
      ]
    },
    {
      "cell_type": "code",
      "source": [
        ""
      ],
      "metadata": {
        "id": "Lm56360LmaSk"
      },
      "execution_count": null,
      "outputs": []
    }
  ],
  "metadata": {
    "colab": {
      "collapsed_sections": [],
      "name": "Welcome To Colaboratory",
      "provenance": [],
      "include_colab_link": true
    },
    "kernelspec": {
      "display_name": "Python 3",
      "name": "python3"
    }
  },
  "nbformat": 4,
  "nbformat_minor": 0
}